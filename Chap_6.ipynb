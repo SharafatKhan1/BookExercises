{
  "nbformat": 4,
  "nbformat_minor": 0,
  "metadata": {
    "colab": {
      "name": "Chap#6.ipynb",
      "provenance": [],
      "collapsed_sections": [],
      "toc_visible": true,
      "authorship_tag": "ABX9TyPPsXe/OyBnIV0xjtQDjVMl",
      "include_colab_link": true
    },
    "kernelspec": {
      "name": "python3",
      "display_name": "Python 3"
    }
  },
  "cells": [
    {
      "cell_type": "markdown",
      "metadata": {
        "id": "view-in-github",
        "colab_type": "text"
      },
      "source": [
        "<a href=\"https://colab.research.google.com/github/SharafatKhan1/BookExercises/blob/master/Chap_6.ipynb\" target=\"_parent\"><img src=\"https://colab.research.google.com/assets/colab-badge.svg\" alt=\"Open In Colab\"/></a>"
      ]
    },
    {
      "cell_type": "markdown",
      "metadata": {
        "id": "W7mqSBdQri5L"
      },
      "source": [
        "# 6-1. Person"
      ]
    },
    {
      "cell_type": "code",
      "metadata": {
        "colab": {
          "base_uri": "https://localhost:8080/"
        },
        "id": "KWKl4ejYrki7",
        "outputId": "1a4f1c83-35ef-46af-d979-ee2d0a3f695a"
      },
      "source": [
        "person = {\"FirstName\": \"Muhammad\", \"LastName\": \"Fayyaz\", \"Age\": 50, \"City\": \"Karachi\"}\r\n",
        "\r\n",
        "print(person[\"FirstName\"])\r\n",
        "print(person[\"LastName\"])\r\n",
        "print(person[\"Age\"])\r\n",
        "print(person[\"City\"])"
      ],
      "execution_count": 2,
      "outputs": [
        {
          "output_type": "stream",
          "text": [
            "Muhammad\n",
            "Fayyaz\n",
            "50\n",
            "Karachi\n"
          ],
          "name": "stdout"
        }
      ]
    },
    {
      "cell_type": "markdown",
      "metadata": {
        "id": "2FRSZwait0it"
      },
      "source": [
        "# 6-2. Favorite Numbers"
      ]
    },
    {
      "cell_type": "code",
      "metadata": {
        "id": "8lw0WM2dt2KQ"
      },
      "source": [
        "favorite_numbers = {\"Fayyaz\": 5, \"Skhan\": 9, \"Yaseen\": 14, \"Salman\": 8, \"Uzaif\": 2}\r\n",
        "print(\"Fayyaz fav. number is \" + str(favorite_numbers[\"Fayyaz\"]))\r\n",
        "print(\"Skhan fav. number is \" + str(favorite_numbers[\"Skhan\"]))\r\n",
        "print(\"Yaseen fav. number is \" + str(favorite_numbers[\"Yaseen\"]))\r\n",
        "print(\"Salman fav. number is \" + str(favorite_numbers[\"Salman\"]))\r\n",
        "print(\"Uzaif fav. number is \" + str(favorite_numbers[\"Uzaif\"]))"
      ],
      "execution_count": null,
      "outputs": []
    },
    {
      "cell_type": "markdown",
      "metadata": {
        "id": "g0aUDwfIx6L7"
      },
      "source": [
        "# 6-3. Glossary"
      ]
    },
    {
      "cell_type": "code",
      "metadata": {
        "colab": {
          "base_uri": "https://localhost:8080/"
        },
        "id": "wLdg-3N5x8N_",
        "outputId": "32593493-7232-4ed3-9325-1b50c7dbfe21"
      },
      "source": [
        "Glossary = {\"Variable\": \"Temporary Storage\", \"List\": \"Collection Of Items\", \"String\": \"Sequence Of Charactors\"}\r\n",
        "print(\"Variable: \" + str(Glossary[\"Variable\"]))\r\n",
        "print(\"List: \" + str(Glossary[\"List\"]))\r\n",
        "print(\"String: \" + str(Glossary[\"String\"]))"
      ],
      "execution_count": 14,
      "outputs": [
        {
          "output_type": "stream",
          "text": [
            "Variable: Temporary Storage\n",
            "List: Collection Of Items\n",
            "String: Sequence Of Charactors\n"
          ],
          "name": "stdout"
        }
      ]
    },
    {
      "cell_type": "code",
      "metadata": {
        "colab": {
          "base_uri": "https://localhost:8080/"
        },
        "id": "iCRmlwxNzZcE",
        "outputId": "5930709a-dd58-42e2-ec7c-579193124916"
      },
      "source": [
        ""
      ],
      "execution_count": 20,
      "outputs": [
        {
          "output_type": "stream",
          "text": [
            "\n",
            "Variable: Temporary Storage.\n",
            "\n",
            "List: Collection Of Items.\n",
            "\n",
            "String: Sequence Of Charactors.\n"
          ],
          "name": "stdout"
        }
      ]
    },
    {
      "cell_type": "markdown",
      "metadata": {
        "id": "38uCEdkmEBaM"
      },
      "source": [
        "# 6-4. Glossary2"
      ]
    },
    {
      "cell_type": "code",
      "metadata": {
        "colab": {
          "base_uri": "https://localhost:8080/"
        },
        "id": "upAHqTGpEED9",
        "outputId": "170e9cda-ea3f-4fa6-feb5-d65776f2e1c8"
      },
      "source": [
        "for w, m in Glossary.items():\r\n",
        "  print(\"\\n\" + str(w.title()) + \": \"\r\n",
        "  + str(m.title()) + \".\")\r\n",
        "\r\n",
        "Glossary[\"Syntax\"] = \"Way to write code.\"\r\n",
        "Glossary[\"Exception\"] = \"Logical Errors\"\r\n",
        "Glossary[\"Exception Handling\"] = \"To prevent application from crash\"\r\n"
      ],
      "execution_count": 22,
      "outputs": [
        {
          "output_type": "stream",
          "text": [
            "\n",
            "Variable: Temporary Storage.\n",
            "\n",
            "List: Collection Of Items.\n",
            "\n",
            "String: Sequence Of Charactors.\n"
          ],
          "name": "stdout"
        }
      ]
    },
    {
      "cell_type": "code",
      "metadata": {
        "colab": {
          "base_uri": "https://localhost:8080/"
        },
        "id": "rgp-ZZRREwGU",
        "outputId": "1bdeb7a4-91c2-48d0-b742-dec8563361cf"
      },
      "source": [
        "Glossary[\"Syntax\"] = \"Way to write code.\"\r\n",
        "Glossary[\"Exception\"] = \"Logical Errors\"\r\n",
        "Glossary[\"Exception Handling\"] = \"To prevent application from crash\"\r\n",
        "\r\n",
        "for k, v in Glossary.items():\r\n",
        "  print(\"\\n\" + str(k.title()) +\": \" + str(v.title()) + \".\")"
      ],
      "execution_count": 25,
      "outputs": [
        {
          "output_type": "stream",
          "text": [
            "\n",
            "Variable: Temporary Storage.\n",
            "\n",
            "List: Collection Of Items.\n",
            "\n",
            "String: Sequence Of Charactors.\n",
            "\n",
            "Syntax: Way To Write Code..\n",
            "\n",
            "Exception: Logical Errors.\n",
            "\n",
            "Exception Handling: To Prevent Application From Crash.\n"
          ],
          "name": "stdout"
        }
      ]
    },
    {
      "cell_type": "markdown",
      "metadata": {
        "id": "vqvbn-gAHuAa"
      },
      "source": [
        "# 6-5. Rivers"
      ]
    },
    {
      "cell_type": "code",
      "metadata": {
        "colab": {
          "base_uri": "https://localhost:8080/"
        },
        "id": "bG_bzJY9HyU6",
        "outputId": "1e0ec4b8-98e7-4ee9-b7f3-e7f18ffa172d"
      },
      "source": [
        "rivers = {\"Nile River\": \"Egypt\", \"Swat River\": \"Pakistan\", \"Gandhara River\": \"India\"}\r\n",
        "\r\n",
        "print(\"<<===== The rivers runs through Country =====>>\")\r\n",
        "for k, v in rivers.items():\r\n",
        "  print(f\"\\nThe {k} runs through {v}.\")\r\n",
        "\r\n",
        "print(\"\\n\\n<<===== The river Names =====>>\")\r\n",
        "for river in rivers.keys():\r\n",
        "  print(f\"\\n{river}\") \r\n",
        "\r\n",
        "print(\"\\n\\n<<===== The Country Names =====>>\")\r\n",
        "for country in rivers.values():\r\n",
        "  print(f\"\\n{country}\") \r\n",
        "\r\n"
      ],
      "execution_count": 35,
      "outputs": [
        {
          "output_type": "stream",
          "text": [
            "<<===== The rivers runs through Country =====>>\n",
            "\n",
            "The Nile River runs through Egypt.\n",
            "\n",
            "The Swat River runs through Pakistan.\n",
            "\n",
            "The Gandhara River runs through India.\n",
            "\n",
            "\n",
            "<<===== The river Names =====>>\n",
            "\n",
            "Nile River\n",
            "\n",
            "Swat River\n",
            "\n",
            "Gandhara River\n",
            "\n",
            "\n",
            "<<===== The Country Names =====>>\n",
            "\n",
            "Egypt\n",
            "\n",
            "Pakistan\n",
            "\n",
            "India\n"
          ],
          "name": "stdout"
        }
      ]
    },
    {
      "cell_type": "markdown",
      "metadata": {
        "id": "_d0BhDUDMJih"
      },
      "source": [
        "# 6-6. Polling"
      ]
    },
    {
      "cell_type": "code",
      "metadata": {
        "colab": {
          "base_uri": "https://localhost:8080/"
        },
        "id": "368aVQsMJMtU",
        "outputId": "55c04d91-1054-496d-a40a-e3ac5a5ff892"
      },
      "source": [
        "favorite_languages = {\r\n",
        " 'jen': 'python',\r\n",
        " 'sarah': 'c',\r\n",
        " 'edward': 'ruby',\r\n",
        " 'phil': 'python',\r\n",
        " }\r\n",
        "\r\n",
        "people = [\"jen\", \"Skhan\", \"Fayyaz\", \"edward\", \"Yaseen\"]\r\n",
        "\r\n",
        "for p in people:\r\n",
        "  if p in favorite_languages.keys():\r\n",
        "    print(f\"\\nThanks {p} for take a part in poll.\")\r\n",
        "  else:\r\n",
        "    print(f\"\\nPlease {p} take a part in poll.\")\r\n"
      ],
      "execution_count": 41,
      "outputs": [
        {
          "output_type": "stream",
          "text": [
            "\n",
            "Thanks jen for take a part in poll.\n",
            "\n",
            "Please Skhan take a part in poll.\n",
            "\n",
            "Please Fayyaz take a part in poll.\n",
            "\n",
            "Thanks edward for take a part in poll.\n",
            "\n",
            "Please Yaseen take a part in poll.\n"
          ],
          "name": "stdout"
        }
      ]
    },
    {
      "cell_type": "markdown",
      "metadata": {
        "id": "T0KOfKiQYfoY"
      },
      "source": [
        "# 6-7. People"
      ]
    },
    {
      "cell_type": "code",
      "metadata": {
        "colab": {
          "base_uri": "https://localhost:8080/"
        },
        "id": "ZJ1lvcxoNN5f",
        "outputId": "a0c23446-bf85-415d-f76b-de1a8f28d2b4"
      },
      "source": [
        "person1 = {\"FirstName\": \"Muhammad\", \"LastName\": \"Fayyaz\", \"Age\": 50, \"City\": \"Karachi\"}\r\n",
        "person2 = {\"FirstName\": \"Yaseen\", \"LastName\": \"Ahmad\", \"Age\":55, \"City\": \"Swabi\"}\r\n",
        "person3 = {\"FirstName\": \"Salman\", \"LastName\": \"Khan\", \"Age\": 50, \"City\": \"Gwadar\"}\r\n",
        "\r\n",
        "people = [person1, person2, person3]\r\n",
        "\r\n",
        "for p in people:\r\n",
        "  print(p)\r\n"
      ],
      "execution_count": 42,
      "outputs": [
        {
          "output_type": "stream",
          "text": [
            "{'FirstName': 'Muhammad', 'LastName': 'Fayyaz', 'Age': 50, 'City': 'Karachi'}\n",
            "{'FirstName': 'Yaseen', 'LastName': 'Ahmad', 'Age': 55, 'City': 'Swabi'}\n",
            "{'FirstName': 'Salman', 'LastName': 'Khan', 'Age': 50, 'City': 'Gwadar'}\n"
          ],
          "name": "stdout"
        }
      ]
    },
    {
      "cell_type": "markdown",
      "metadata": {
        "id": "KQ4OoAeLac-t"
      },
      "source": [
        "# 6-8. Pets"
      ]
    },
    {
      "cell_type": "code",
      "metadata": {
        "colab": {
          "base_uri": "https://localhost:8080/"
        },
        "id": "FjWsvFqFZx5c",
        "outputId": "7542bf18-3104-4029-db02-78b39c2d66d0"
      },
      "source": [
        "charlie = {\"Name\": \"Charlie\", \"Kind\": \"Dog\", \"Owner\": \"Fayaz\"}\r\n",
        "jack = {\"Name\": \"Jack\", \"Kind\": \"Dog\", \"Owner\": \"Yaseen\"}\r\n",
        "\r\n",
        "bella = {\"Name\": \"Bella\", \"Kind\": \"Cat\", \"Owner\": \"Salman\"}\r\n",
        "kitty = {\"Name\": \"Kitty\", \"Kind\": \"Cat\", \"Owner\": \"Yaseen\"}\r\n",
        "\r\n",
        "pets = [charlie, jack, bella, kitty]\r\n",
        "\r\n",
        "for pet in pets:\r\n",
        "  print(pet)"
      ],
      "execution_count": 43,
      "outputs": [
        {
          "output_type": "stream",
          "text": [
            "{'Name': 'Charlie', 'Kind': 'Dog', 'Owner': 'Fayaz'}\n",
            "{'Name': 'Jack', 'Kind': 'Dog', 'Owner': 'Yaseen'}\n",
            "{'Name': 'Bella', 'Kind': 'Cat', 'Owner': 'Salman'}\n",
            "{'Name': 'Kitty', 'Kind': 'Cat', 'Owner': 'Yaseen'}\n"
          ],
          "name": "stdout"
        }
      ]
    },
    {
      "cell_type": "markdown",
      "metadata": {
        "id": "ivVjXdG4eFNA"
      },
      "source": [
        "# 6-9. Favorite Places"
      ]
    },
    {
      "cell_type": "code",
      "metadata": {
        "colab": {
          "base_uri": "https://localhost:8080/"
        },
        "id": "535H6rHBeI-H",
        "outputId": "8e12c596-acb9-4a99-8c40-5be76d61d1ae"
      },
      "source": [
        "favorite_places = {\r\n",
        "    \"Sharafat Khan\": [\"Swat\", \"Hunza\", \"Kashmir\"],\r\n",
        "    \"Yaseen\": [\"Swat\", \"Kashmir\"],\r\n",
        "    \"Fayyaz\": [\"Balochistan\"]\r\n",
        "     }\r\n",
        "\r\n",
        "for name, places in favorite_places.items():\r\n",
        "  if len(places) > 1:\r\n",
        "    print(f\"\\n\\n{name} favorite places are: \")\r\n",
        "    for place in places:\r\n",
        "      print(place)\r\n",
        "  else:\r\n",
        "    print(f\"\\n\\n{name} favorite place is \", end=\"\")\r\n",
        "    for place in places:\r\n",
        "      print(place)"
      ],
      "execution_count": 63,
      "outputs": [
        {
          "output_type": "stream",
          "text": [
            "\n",
            "\n",
            "Sharafat Khan favorite places are: \n",
            "Swat\n",
            "Hunza\n",
            "Kashmir\n",
            "\n",
            "\n",
            "Yaseen favorite places are: \n",
            "Swat\n",
            "Kashmir\n",
            "\n",
            "\n",
            "Fayyaz favorite place is Balochistan\n"
          ],
          "name": "stdout"
        }
      ]
    },
    {
      "cell_type": "markdown",
      "metadata": {
        "id": "elwC0I3Klnpt"
      },
      "source": [
        "# 6-10. Favorite Numbers"
      ]
    },
    {
      "cell_type": "code",
      "metadata": {
        "id": "LYleYfoKgGPo"
      },
      "source": [
        "favorite_numbers = {\"Fayyaz\": [5,10], \"Skhan\": [9], \"Yaseen\": [14,27], \"Salman\": [8], \"Uzaif\": [2]}\r\n",
        "\r\n",
        "for name, nums in favorite_numbers.items():\r\n",
        "  if len(nums) > 1:\r\n",
        "    print(f\"\\n\\n{name} favorite numbers are: \")\r\n",
        "    for num in nums:\r\n",
        "      print(num)\r\n",
        "  else:\r\n",
        "    print(f\"\\n\\n{name} favorite number is \", end = \"\")\r\n",
        "    for num in nums:\r\n",
        "      for num in nums:\r\n",
        "        print(num)"
      ],
      "execution_count": null,
      "outputs": []
    },
    {
      "cell_type": "markdown",
      "metadata": {
        "id": "IgCs1ndOn8tr"
      },
      "source": [
        "# 6-11. Cities"
      ]
    },
    {
      "cell_type": "code",
      "metadata": {
        "colab": {
          "base_uri": "https://localhost:8080/"
        },
        "id": "QFvksde3dJg7",
        "outputId": "47cbcc06-75d3-429a-c3f1-9ba1f2a7ddc8"
      },
      "source": [
        "cities = {\r\n",
        "    \"Karachi\": {\"Counry\": \"Pakistan\", \"Population\": \"16,459,000\", \"Fact\": \"Karachi generates the largest share of Pakistan's GDP and national revenue.\"},\r\n",
        "    \"Peshawar\": {\"Counry\": \"Pakistan\", \"Population\": \"2,273,000\", \"Fact\": \"Peshawar was the capital of the ancient Kushan Empire, and was home to what may have been the tallest building in the ancient world, the Kanishka stupa.\"},\r\n",
        "    \"Lahore\": {\"Counry\": \"Pakistan\", \"Population\": \"13,095,000\", \"Fact\": \"Urdu Lāhawr, second largest city of Pakistan and the capital of Punjab province.\"}\r\n",
        "    }\r\n",
        "\r\n",
        "for city, details in cities.items():\r\n",
        "  print(city + \":\")\r\n",
        "  for k, v in details.items():\r\n",
        "    print(f\"\\t {k}: {v}\" )\r\n"
      ],
      "execution_count": 84,
      "outputs": [
        {
          "output_type": "stream",
          "text": [
            "Karachi:\n",
            "\t Counry: Pakistan\n",
            "\t Population: 16,459,000\n",
            "\t Fact: Karachi generates the largest share of Pakistan's GDP and national revenue.\n",
            "Peshawar:\n",
            "\t Counry: Pakistan\n",
            "\t Population: 2,273,000\n",
            "\t Fact: Peshawar was the capital of the ancient Kushan Empire, and was home to what may have been the tallest building in the ancient world, the Kanishka stupa.\n",
            "Lahore:\n",
            "\t Counry: Pakistan\n",
            "\t Population: 13,095,000\n",
            "\t Fact: Urdu Lāhawr, second largest city of Pakistan and the capital of Punjab province.\n"
          ],
          "name": "stdout"
        }
      ]
    },
    {
      "cell_type": "code",
      "metadata": {
        "id": "SyMXQOQMpET4"
      },
      "source": [
        ""
      ],
      "execution_count": null,
      "outputs": []
    }
  ]
}