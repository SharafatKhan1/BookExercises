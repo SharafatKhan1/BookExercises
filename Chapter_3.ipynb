{
  "nbformat": 4,
  "nbformat_minor": 0,
  "metadata": {
    "colab": {
      "name": "Chapter#3.ipynb",
      "provenance": [],
      "collapsed_sections": [
        "DGGqab3elAPv"
      ],
      "toc_visible": true,
      "authorship_tag": "ABX9TyPTYi1kpKIt5wY1ZXl5fxFo",
      "include_colab_link": true
    },
    "kernelspec": {
      "display_name": "Python 3",
      "name": "python3"
    }
  },
  "cells": [
    {
      "cell_type": "markdown",
      "metadata": {
        "id": "view-in-github",
        "colab_type": "text"
      },
      "source": [
        "<a href=\"https://colab.research.google.com/github/SharafatKhan1/BookExercises/blob/master/Chapter_3.ipynb\" target=\"_parent\"><img src=\"https://colab.research.google.com/assets/colab-badge.svg\" alt=\"Open In Colab\"/></a>"
      ]
    },
    {
      "cell_type": "markdown",
      "metadata": {
        "id": "eISm3MSGc3Rx"
      },
      "source": [
        "# Chapter No. 03 List"
      ]
    },
    {
      "cell_type": "markdown",
      "metadata": {
        "id": "F9zmlypadGUp"
      },
      "source": [
        "# 3.1 Names"
      ]
    },
    {
      "cell_type": "code",
      "metadata": {
        "id": "y_yAXYmkcpUk"
      },
      "source": [
        "names = ['Yaseen', 'Fayyaz', 'Talha', 'Abbas']"
      ],
      "execution_count": null,
      "outputs": []
    },
    {
      "cell_type": "code",
      "metadata": {
        "colab": {
          "base_uri": "https://localhost:8080/"
        },
        "id": "BARA7jgXc60U",
        "outputId": "f054c4a4-e078-4c34-b043-a1d5c885887a"
      },
      "source": [
        "print(\"Friend Name is: \", names[0])\r\n",
        "print(\"Friend Name is: \", names[1])\r\n",
        "print(\"Friend Name is: \", names[2])\r\n",
        "print(\"Friend Name is: \", names[3])"
      ],
      "execution_count": null,
      "outputs": [
        {
          "output_type": "stream",
          "text": [
            "Friend Name is:  Yaseen\n",
            "Friend Name is:  Fayyaz\n",
            "Friend Name is:  Talha\n",
            "Friend Name is:  Abbas\n"
          ],
          "name": "stdout"
        }
      ]
    },
    {
      "cell_type": "markdown",
      "metadata": {
        "id": "rbqz2NaSdMUJ"
      },
      "source": [
        "# 3.2 Greetings"
      ]
    },
    {
      "cell_type": "code",
      "metadata": {
        "colab": {
          "background_save": true
        },
        "id": "-RTPt5fGc_bd",
        "outputId": "1b4e6810-3f5c-4ff7-f79f-e4070d72a1f8"
      },
      "source": [
        "message = \"Hello, have a nice day \"\r\n",
        "print(message + names[0])\r\n",
        "print(message + names[1])\r\n",
        "print(message + names[2])\r\n",
        "print(message + names[3])"
      ],
      "execution_count": null,
      "outputs": [
        {
          "output_type": "stream",
          "text": [
            "Hello, have a nice day Yaseen\n",
            "Hello, have a nice day Fayyaz\n",
            "Hello, have a nice day Talha\n",
            "Hello, have a nice day Abbas\n"
          ],
          "name": "stdout"
        }
      ]
    },
    {
      "cell_type": "code",
      "metadata": {
        "id": "HRia-RNNPECE"
      },
      "source": [
        ""
      ],
      "execution_count": null,
      "outputs": []
    },
    {
      "cell_type": "markdown",
      "metadata": {
        "id": "egpwcdkWPFA5"
      },
      "source": [
        "# 3-3. Your Own List: \r\n",
        "Think of your favorite mode of transportation, such as a\r\n",
        "motorcycle or a car, and make a list that stores several examples. Use your list\r\n",
        "to print a series of statements about these items, such as “I would like to own a\r\n",
        "Honda motorcycle.”"
      ]
    },
    {
      "cell_type": "code",
      "metadata": {
        "colab": {
          "base_uri": "https://localhost:8080/"
        },
        "id": "X7D1EkO6PG2Q",
        "outputId": "52496a37-60ec-4ebd-8eeb-d0679ca0bf7e"
      },
      "source": [
        "\r\n",
        "\r\n",
        "messages = ['Car is one of my favorite vihicle.', 'I would like to own a Car.', 'Pakistan will soon introduce Electric Cars.']\r\n",
        "print(messages[0])\r\n",
        "print(messages[1])\r\n",
        "print(messages[2])"
      ],
      "execution_count": 6,
      "outputs": [
        {
          "output_type": "stream",
          "text": [
            "Car is one of my favorite vihicle.\n",
            "I would like to own a Car.\n",
            "Pakistan will soon introduce Electric Cars.\n"
          ],
          "name": "stdout"
        }
      ]
    },
    {
      "cell_type": "code",
      "metadata": {
        "id": "u4E0lsiWQKG6"
      },
      "source": [
        ""
      ],
      "execution_count": 11,
      "outputs": []
    },
    {
      "cell_type": "markdown",
      "metadata": {
        "id": "nqxTalwLEAkg"
      },
      "source": [
        "# 3-4 Guest List"
      ]
    },
    {
      "cell_type": "code",
      "metadata": {
        "colab": {
          "base_uri": "https://localhost:8080/"
        },
        "id": "_iRqradQWlxa",
        "outputId": "052329fb-fbb5-4672-fdac-7d15096b2f5d"
      },
      "source": [
        "guests = ['Fayyaz', 'Yaseen', 'Talha']\r\n",
        "print('Hey ' + guests[0] + ', I would like to invite you to dinner tonight. ')\r\n",
        "print('Hey ' + guests[1] + ', I would like to invite you to dinner tonight. ')\r\n",
        "print('Hey ' + guests[2] + ', I would like to invite you to dinner tonight. ')\r\n"
      ],
      "execution_count": 16,
      "outputs": [
        {
          "output_type": "stream",
          "text": [
            "Hey Fayyaz, I would like to invite you to dinner tonight. \n",
            "Hey Yaseen, I would like to invite you to dinner tonight. \n",
            "Hey Talha, I would like to invite you to dinner tonight. \n"
          ],
          "name": "stdout"
        }
      ]
    },
    {
      "cell_type": "markdown",
      "metadata": {
        "id": "lAvOjgoQIjkW"
      },
      "source": [
        "# 3-5. Changing Guest List:"
      ]
    },
    {
      "cell_type": "code",
      "metadata": {
        "colab": {
          "base_uri": "https://localhost:8080/"
        },
        "id": "xqIYJ6L6Wp5Q",
        "outputId": "e86f138e-c905-4db7-c0db-476e0489858f"
      },
      "source": [
        "guests = ['Fayyaz', 'Yaseen', 'Talha']\r\n",
        "\r\n",
        "print('Hey ' + guests[0] + ', I would like to invite you to dinner tonight. ')\r\n",
        "print('Hey ' + guests[1] + ', I would like to invite you to dinner tonight. ')\r\n",
        "print('Hey ' + guests[2] + ', I would like to invite you to dinner tonight. ')\r\n",
        "\r\n",
        "print(\"\\nHello Everyone, \" +guests[1] + \" can't make today's dinner.\")\r\n",
        "\r\n",
        "guests[1] = 'Abbas'\r\n",
        "print('\\n')\r\n",
        "print('Hey ' + guests[0] + ', I would like to invite you to dinner tonight. ')\r\n",
        "print('Hey ' + guests[1] + ', I would like to invite you to dinner tonight. ')\r\n",
        "print('Hey ' + guests[2] + ', I would like to invite you to dinner tonight. ')\r\n"
      ],
      "execution_count": 25,
      "outputs": [
        {
          "output_type": "stream",
          "text": [
            "Hey Fayyaz, I would like to invite you to dinner tonight. \n",
            "Hey Yaseen, I would like to invite you to dinner tonight. \n",
            "Hey Talha, I would like to invite you to dinner tonight. \n",
            "\n",
            "Hello Everyone, Yaseen can't make today's dinner.\n",
            "\n",
            "\n",
            "Hey Fayyaz, I would like to invite you to dinner tonight. \n",
            "Hey Abbas, I would like to invite you to dinner tonight. \n",
            "Hey Talha, I would like to invite you to dinner tonight. \n"
          ],
          "name": "stdout"
        }
      ]
    },
    {
      "cell_type": "markdown",
      "metadata": {
        "id": "91o3my4ROIFK"
      },
      "source": [
        "# 3-6. More Guests"
      ]
    },
    {
      "cell_type": "code",
      "metadata": {
        "colab": {
          "base_uri": "https://localhost:8080/"
        },
        "id": "hlqDQgLvWsPo",
        "outputId": "be20a69b-052f-442a-ac61-242a9db4cd76"
      },
      "source": [
        "guests = ['Fayyaz', 'Yaseen', 'Talha']\r\n",
        "\r\n",
        "print('Hey ' + guests[0] + ', I would like to invite you to dinner tonight. ')\r\n",
        "print('Hey ' + guests[1] + ', I would like to invite you to dinner tonight. ')\r\n",
        "print('Hey ' + guests[2] + ', I would like to invite you to dinner tonight. ')\r\n",
        "\r\n",
        "print(\"\\nHello Everyone, \" +guests[1] + \" can't make today's dinner.\")\r\n",
        "\r\n",
        "guests[1] = 'Abbas'\r\n",
        "print('\\n')\r\n",
        "print('Hey ' + guests[0] + ', I would like to invite you to dinner tonight. ')\r\n",
        "print('Hey ' + guests[1] + ', I would like to invite you to dinner tonight. ')\r\n",
        "print('Hey ' + guests[2] + ', I would like to invite you to dinner tonight. ')\r\n",
        "\r\n",
        "\r\n",
        "print('\\nHey Friends! I found a bigger dinner table. So, I would like to invite some more people.')\r\n",
        "\r\n",
        "guests.insert(0, 'Fareed')\r\n",
        "guests.insert(2, 'Nizam')\r\n",
        "guests.append('Salman')\r\n",
        "\r\n",
        "print('\\n')\r\n",
        "print('Hey ' + guests[0] + ', I would like to invite you to dinner tonight. ')\r\n",
        "print('Hey ' + guests[1] + ', I would like to invite you to dinner tonight. ')\r\n",
        "print('Hey ' + guests[2] + ', I would like to invite you to dinner tonight. ')\r\n",
        "print('Hey ' + guests[3] + ', I would like to invite you to dinner tonight. ')\r\n",
        "print('Hey ' + guests[4] + ', I would like to invite you to dinner tonight. ')\r\n",
        "print('Hey ' + guests[5] + ', I would like to invite you to dinner tonight. ')\r\n",
        "\r\n"
      ],
      "execution_count": 85,
      "outputs": [
        {
          "output_type": "stream",
          "text": [
            "Hey Fayyaz, I would like to invite you to dinner tonight. \n",
            "Hey Yaseen, I would like to invite you to dinner tonight. \n",
            "Hey Talha, I would like to invite you to dinner tonight. \n",
            "\n",
            "Hello Everyone, Yaseen can't make today's dinner.\n",
            "\n",
            "\n",
            "Hey Fayyaz, I would like to invite you to dinner tonight. \n",
            "Hey Abbas, I would like to invite you to dinner tonight. \n",
            "Hey Talha, I would like to invite you to dinner tonight. \n",
            "\n",
            "Hey Friends! I found a bigger dinner table. So, I would like to invite some more people.\n",
            "\n",
            "\n",
            "Hey Fareed, I would like to invite you to dinner tonight. \n",
            "Hey Fayyaz, I would like to invite you to dinner tonight. \n",
            "Hey Nizam, I would like to invite you to dinner tonight. \n",
            "Hey Abbas, I would like to invite you to dinner tonight. \n",
            "Hey Talha, I would like to invite you to dinner tonight. \n",
            "Hey Salman, I would like to invite you to dinner tonight. \n"
          ],
          "name": "stdout"
        }
      ]
    },
    {
      "cell_type": "markdown",
      "metadata": {
        "id": "I3cxQgejSPUj"
      },
      "source": [
        "# 3-7. Shrinking Guest List"
      ]
    },
    {
      "cell_type": "code",
      "metadata": {
        "colab": {
          "base_uri": "https://localhost:8080/"
        },
        "id": "etVZ6dYES0MS",
        "outputId": "5ef38a9a-eb29-4e95-961f-692384c2f08f"
      },
      "source": [
        "print(\"Hey friends, I can invite only two guets\")\r\n",
        "\r\n",
        "print(\"\\n<<======= Guests Who will Not Be Invited =======>>\\n\")\r\n",
        "i = len(guests)\r\n",
        "while i != 2:\r\n",
        "  popped_guest = guests.pop()\r\n",
        "  print(\"Hey \" + popped_guest + \", sorry I can't invite you for dinner tonight.\")\r\n",
        "  i = i - 1\r\n",
        "\r\n",
        "print(\"\\n<<======= Guests Who will Be Invited =======>>\\n\")\r\n",
        "for guest in guests:\r\n",
        "  print(\"Hey \" + guest + \"! You're still invited for tonight dinner.\")\r\n",
        "\r\n",
        "print(\"\\n<<======= Finally The Empty List =======>>\\n\")\r\n",
        "while len(guests) != 0:\r\n",
        "  del guests[-1]\r\n",
        "print(guests)"
      ],
      "execution_count": 84,
      "outputs": [
        {
          "output_type": "stream",
          "text": [
            "Hey friends, I can invite only two guets\n",
            "\n",
            "<<======= Guests Who will Not Be Invited =======>>\n",
            "\n",
            "Hey Salman, sorry I can't invite you for dinner tonight.\n",
            "Hey Talha, sorry I can't invite you for dinner tonight.\n",
            "Hey Abbas, sorry I can't invite you for dinner tonight.\n",
            "Hey Nizam, sorry I can't invite you for dinner tonight.\n",
            "\n",
            "<<======= Guests Who will Be Invited =======>>\n",
            "\n",
            "Hey Fareed! You're still invited for tonight dinner.\n",
            "Hey Fayyaz! You're still invited for tonight dinner.\n",
            "\n",
            "<<======= Finally The Empty List =======>>\n",
            "\n",
            "[]\n"
          ],
          "name": "stdout"
        }
      ]
    },
    {
      "cell_type": "markdown",
      "metadata": {
        "id": "dWPl3Kg0fl3x"
      },
      "source": [
        "# 3-8. Seeing the World"
      ]
    },
    {
      "cell_type": "code",
      "metadata": {
        "colab": {
          "base_uri": "https://localhost:8080/"
        },
        "id": "NxdteRuNfpCr",
        "outputId": "369ae454-0b13-4bc6-f032-3b62d2f76ffc"
      },
      "source": [
        "places = ['Swat', 'Kalam', 'Hunza', 'Malam Jabba', 'Gabeen Jabba']\r\n",
        "\r\n",
        "print(\"Original List\")\r\n",
        "print(places)\r\n",
        "\r\n",
        "temp_sortedlist = sorted(places)\r\n",
        "\r\n",
        "print(\"\\nList After Sorted()\")\r\n",
        "print(temp_sortedlist)\r\n",
        "\r\n",
        "print(\"\\nOriginal List\")\r\n",
        "print(places)\r\n",
        "\r\n",
        "tempReverse_sortedlist = sorted(places, reverse= True)\r\n",
        "\r\n",
        "print(\"\\nList After Sorted() in Reverse Order\")\r\n",
        "print(tempReverse_sortedlist)\r\n",
        "\r\n",
        "print(\"\\nOriginal List\")\r\n",
        "print(places)\r\n",
        "\r\n",
        "places.reverse()\r\n",
        "print(\"\\nList After reverse()\")\r\n",
        "print(places)\r\n",
        "\r\n",
        "places.reverse()\r\n",
        "print(\"\\nList After reverse() 2nd Time\")\r\n",
        "print(places)\r\n",
        "\r\n",
        "places.sort()\r\n",
        "print(\"\\nList After sort()\")\r\n",
        "print(places)\r\n",
        "\r\n",
        "places.sort(reverse=True)\r\n",
        "print(\"\\nList After sort() In Reverse Order\")\r\n",
        "print(places)"
      ],
      "execution_count": 82,
      "outputs": [
        {
          "output_type": "stream",
          "text": [
            "Original List\n",
            "['Swat', 'Kalam', 'Hunza', 'Malam Jabba', 'Gabeen Jabba']\n",
            "\n",
            "List After Sorted()\n",
            "['Gabeen Jabba', 'Hunza', 'Kalam', 'Malam Jabba', 'Swat']\n",
            "\n",
            "Original List\n",
            "['Swat', 'Kalam', 'Hunza', 'Malam Jabba', 'Gabeen Jabba']\n",
            "\n",
            "List After Sorted() in Reverse Order\n",
            "['Swat', 'Malam Jabba', 'Kalam', 'Hunza', 'Gabeen Jabba']\n",
            "\n",
            "Original List\n",
            "['Swat', 'Kalam', 'Hunza', 'Malam Jabba', 'Gabeen Jabba']\n",
            "\n",
            "List After reverse()\n",
            "['Gabeen Jabba', 'Malam Jabba', 'Hunza', 'Kalam', 'Swat']\n",
            "\n",
            "List After reverse() 2nd Time\n",
            "['Swat', 'Kalam', 'Hunza', 'Malam Jabba', 'Gabeen Jabba']\n",
            "\n",
            "List After sort()\n",
            "['Gabeen Jabba', 'Hunza', 'Kalam', 'Malam Jabba', 'Swat']\n",
            "\n",
            "List After sort() In Reverse Order\n",
            "['Swat', 'Malam Jabba', 'Kalam', 'Hunza', 'Gabeen Jabba']\n"
          ],
          "name": "stdout"
        }
      ]
    },
    {
      "cell_type": "markdown",
      "metadata": {
        "id": "DGGqab3elAPv"
      },
      "source": [
        "# 3-9. Dinner Guests"
      ]
    },
    {
      "cell_type": "code",
      "metadata": {
        "colab": {
          "base_uri": "https://localhost:8080/"
        },
        "id": "37AvyxUUlESa",
        "outputId": "5bff16c7-43fa-4eb6-b1ed-da53468731e4"
      },
      "source": [
        "print(\"There are \" +str(len(guests))+ \" people are invited for dinner tonight.\")"
      ],
      "execution_count": 90,
      "outputs": [
        {
          "output_type": "stream",
          "text": [
            "There are 6 people are invited for dinner tonight.\n"
          ],
          "name": "stdout"
        }
      ]
    },
    {
      "cell_type": "markdown",
      "metadata": {
        "id": "Hiq6D7Lzm2Kc"
      },
      "source": [
        "# 3-10. Every Function"
      ]
    },
    {
      "cell_type": "code",
      "metadata": {
        "colab": {
          "base_uri": "https://localhost:8080/"
        },
        "id": "OdrbslBlld2h",
        "outputId": "ad00bca2-d8f2-4ae3-ba79-939da09b4bfa"
      },
      "source": [
        "rivers = ['Indus', 'Chenab', 'Sutlej', 'Swat', 'Zhob', 'Kabul', 'Neelam']\r\n",
        "\r\n",
        "print(\"Rivers of Pakistan: \", end='')\r\n",
        "print(rivers)\r\n",
        "\r\n",
        "print(\"\\nThe Length Of The List is: \" + str(len(rivers)))\r\n",
        "\r\n",
        "# print(\"\\nThe List is sorted through sorted(): \")\r\n",
        "# tempSorted = sorted(rivers)\r\n",
        "# print(sorted(rivers))\r\n",
        "\r\n",
        "print(\"\\nThe List is sorted through sort(): \")\r\n",
        "rivers.sort()\r\n",
        "print(rivers)\r\n",
        "\r\n",
        "print('\\nAppend \"Gilgit\"')\r\n",
        "rivers.append('Gilgit')\r\n",
        "print(rivers)\r\n",
        "\r\n",
        "print('\\nInsert \"Dasht\"')\r\n",
        "rivers.insert(2,'Dasht')\r\n",
        "print(rivers)\r\n",
        "\r\n",
        "print('\\nRemove \"Sutlej\"')\r\n",
        "rivers.remove('Sutlej')\r\n",
        "print(rivers)\r\n",
        "\r\n",
        "print('\\nPop')\r\n",
        "rivers.pop()\r\n",
        "print(rivers)\r\n",
        "\r\n",
        "print('\\nPop through Index \"4\"')\r\n",
        "rivers.pop(4)\r\n",
        "print(rivers)\r\n",
        "\r\n",
        "print('\\ndel')\r\n",
        "del rivers[-3]\r\n",
        "print(rivers)\r\n",
        "\r\n",
        "print('\\nreverse')\r\n",
        "rivers.reverse()\r\n",
        "print(rivers)"
      ],
      "execution_count": 139,
      "outputs": [
        {
          "output_type": "stream",
          "text": [
            "Rivers of Pakistan: ['Indus', 'Chenab', 'Sutlej', 'Swat', 'Zhob', 'Kabul', 'Neelam']\n",
            "\n",
            "The Length Of The List is: 7\n",
            "\n",
            "The List is sorted through sort(): \n",
            "['Chenab', 'Indus', 'Kabul', 'Neelam', 'Sutlej', 'Swat', 'Zhob']\n",
            "\n",
            "Append \"Gilgit\"\n",
            "['Chenab', 'Indus', 'Kabul', 'Neelam', 'Sutlej', 'Swat', 'Zhob', 'Gilgit']\n",
            "\n",
            "Insert \"Dasht\"\n",
            "['Chenab', 'Indus', 'Dasht', 'Kabul', 'Neelam', 'Sutlej', 'Swat', 'Zhob', 'Gilgit']\n",
            "\n",
            "Remove \"Sutlej\"\n",
            "['Chenab', 'Indus', 'Dasht', 'Kabul', 'Neelam', 'Swat', 'Zhob', 'Gilgit']\n",
            "\n",
            "Pop\n",
            "['Chenab', 'Indus', 'Dasht', 'Kabul', 'Neelam', 'Swat', 'Zhob']\n",
            "\n",
            "Pop through Index \"4\"\n",
            "['Chenab', 'Indus', 'Dasht', 'Kabul', 'Swat', 'Zhob']\n",
            "\n",
            "del\n",
            "['Chenab', 'Indus', 'Dasht', 'Swat', 'Zhob']\n",
            "\n",
            "reverse\n",
            "['Zhob', 'Swat', 'Dasht', 'Indus', 'Chenab']\n"
          ],
          "name": "stdout"
        }
      ]
    },
    {
      "cell_type": "markdown",
      "metadata": {
        "id": "IQjV02Tv1SCW"
      },
      "source": [
        "# 3-11. Intentional Error"
      ]
    },
    {
      "cell_type": "code",
      "metadata": {
        "colab": {
          "base_uri": "https://localhost:8080/",
          "height": 171
        },
        "id": "Q3pv1fjxrxNu",
        "outputId": "b8682a84-ee7a-4b4a-f288-bc1dc8074162"
      },
      "source": [
        "# We've only 4 indexes in our rivers list and we're trying to access 5th index.\r\n",
        "rivers[5]"
      ],
      "execution_count": 140,
      "outputs": [
        {
          "output_type": "error",
          "ename": "IndexError",
          "evalue": "ignored",
          "traceback": [
            "\u001b[0;31m---------------------------------------------------------------------------\u001b[0m",
            "\u001b[0;31mIndexError\u001b[0m                                Traceback (most recent call last)",
            "\u001b[0;32m<ipython-input-140-5761f35dedd2>\u001b[0m in \u001b[0;36m<module>\u001b[0;34m()\u001b[0m\n\u001b[0;32m----> 1\u001b[0;31m \u001b[0mrivers\u001b[0m\u001b[0;34m[\u001b[0m\u001b[0;36m5\u001b[0m\u001b[0;34m]\u001b[0m\u001b[0;34m\u001b[0m\u001b[0;34m\u001b[0m\u001b[0m\n\u001b[0m",
            "\u001b[0;31mIndexError\u001b[0m: list index out of range"
          ]
        }
      ]
    },
    {
      "cell_type": "code",
      "metadata": {
        "id": "GQRnTDMx1dHf"
      },
      "source": [
        ""
      ],
      "execution_count": null,
      "outputs": []
    }
  ]
}