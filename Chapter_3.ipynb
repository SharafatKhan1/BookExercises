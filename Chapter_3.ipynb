{
  "nbformat": 4,
  "nbformat_minor": 0,
  "metadata": {
    "colab": {
      "name": "Chapter#3.ipynb",
      "provenance": [],
      "authorship_tag": "ABX9TyOCpg99sRL+r6Dn+sW335NV",
      "include_colab_link": true
    },
    "kernelspec": {
      "name": "python3",
      "display_name": "Python 3"
    }
  },
  "cells": [
    {
      "cell_type": "markdown",
      "metadata": {
        "id": "view-in-github",
        "colab_type": "text"
      },
      "source": [
        "<a href=\"https://colab.research.google.com/github/SharafatKhan1/BookExercises/blob/master/Chapter_3.ipynb\" target=\"_parent\"><img src=\"https://colab.research.google.com/assets/colab-badge.svg\" alt=\"Open In Colab\"/></a>"
      ]
    },
    {
      "cell_type": "markdown",
      "metadata": {
        "id": "eISm3MSGc3Rx"
      },
      "source": [
        "# Chapter No. 03 List"
      ]
    },
    {
      "cell_type": "markdown",
      "metadata": {
        "id": "F9zmlypadGUp"
      },
      "source": [
        "# 3.1 Names"
      ]
    },
    {
      "cell_type": "code",
      "metadata": {
        "id": "y_yAXYmkcpUk"
      },
      "source": [
        "names = ['Yaseen', 'Fayyaz', 'Talha', 'Abbas']"
      ],
      "execution_count": 1,
      "outputs": []
    },
    {
      "cell_type": "code",
      "metadata": {
        "colab": {
          "base_uri": "https://localhost:8080/"
        },
        "id": "BARA7jgXc60U",
        "outputId": "f054c4a4-e078-4c34-b043-a1d5c885887a"
      },
      "source": [
        "print(\"Friend Name is: \", names[0])\r\n",
        "print(\"Friend Name is: \", names[1])\r\n",
        "print(\"Friend Name is: \", names[2])\r\n",
        "print(\"Friend Name is: \", names[3])"
      ],
      "execution_count": 2,
      "outputs": [
        {
          "output_type": "stream",
          "text": [
            "Friend Name is:  Yaseen\n",
            "Friend Name is:  Fayyaz\n",
            "Friend Name is:  Talha\n",
            "Friend Name is:  Abbas\n"
          ],
          "name": "stdout"
        }
      ]
    },
    {
      "cell_type": "markdown",
      "metadata": {
        "id": "rbqz2NaSdMUJ"
      },
      "source": [
        "# 3.2 Greetings"
      ]
    },
    {
      "cell_type": "code",
      "metadata": {
        "colab": {
          "base_uri": "https://localhost:8080/"
        },
        "id": "-RTPt5fGc_bd",
        "outputId": "2f76d0fa-3910-4fa8-db63-de98985c7e15"
      },
      "source": [
        "names = ['Yaseen', 'Fayyaz', 'Talha', 'Abbas']\r\n",
        "message = \"Hello, have a nice day \"\r\n",
        "print(message + names[0] + \".\")\r\n",
        "print(message + names[1] + \".\")\r\n",
        "print(message + names[2] + \".\")\r\n",
        "print(message + names[3] + \".\")"
      ],
      "execution_count": 4,
      "outputs": [
        {
          "output_type": "stream",
          "text": [
            "Hello, have a nice day Yaseen.\n",
            "Hello, have a nice day Fayyaz.\n",
            "Hello, have a nice day Talha.\n",
            "Hello, have a nice day Abbas.\n"
          ],
          "name": "stdout"
        }
      ]
    },
    {
      "cell_type": "code",
      "metadata": {
        "id": "w8kzFHYcdkEV"
      },
      "source": [
        ""
      ],
      "execution_count": null,
      "outputs": []
    }
  ]
}