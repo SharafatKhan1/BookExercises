{
  "nbformat": 4,
  "nbformat_minor": 0,
  "metadata": {
    "colab": {
      "name": "OOP(Class).ipynb",
      "provenance": [],
      "collapsed_sections": [
        "aoyra1L5Kagl",
        "J_pyXWexKzdz",
        "osHwgkU4K9AK",
        "Mho4jD-crUxs",
        "g-rgWuszurY1",
        "oc0rRdVGxt-i",
        "K4MBSsL9z7f7"
      ],
      "toc_visible": true,
      "authorship_tag": "ABX9TyNGvEbdP0Hy79+IfW2+WOao",
      "include_colab_link": true
    },
    "kernelspec": {
      "name": "python3",
      "display_name": "Python 3"
    }
  },
  "cells": [
    {
      "cell_type": "markdown",
      "metadata": {
        "id": "view-in-github",
        "colab_type": "text"
      },
      "source": [
        "<a href=\"https://colab.research.google.com/github/SharafatKhan1/BookExercises/blob/master/Chap%239.ipynb\" target=\"_parent\"><img src=\"https://colab.research.google.com/assets/colab-badge.svg\" alt=\"Open In Colab\"/></a>"
      ]
    },
    {
      "cell_type": "markdown",
      "metadata": {
        "id": "aoyra1L5Kagl"
      },
      "source": [
        "# 9-1 Restaurant"
      ]
    },
    {
      "cell_type": "code",
      "metadata": {
        "id": "avk-2kgifXYd"
      },
      "source": [
        "class Restaurant():\r\n",
        "  def __init__(self, restaurant_name, cuisine_type):\r\n",
        "    self.restaurant_name = restaurant_name\r\n",
        "    self.cuisine_type = cuisine_type\r\n",
        "\r\n",
        "  def describe_restaurant(self):\r\n",
        "    print(self.restaurant_name, self.cuisine_type)\r\n",
        "\r\n",
        "  def open_restaurant(self):\r\n",
        "    print(\"The \" +str(self.restaurant_name)+  \" Is Open\")"
      ],
      "execution_count": null,
      "outputs": []
    },
    {
      "cell_type": "code",
      "metadata": {
        "colab": {
          "base_uri": "https://localhost:8080/"
        },
        "id": "kKCwILgrlnG5",
        "outputId": "6903897c-c97c-48a8-8ec4-036930daeee6"
      },
      "source": [
        "restaurant = Restaurant('A One Restaurant', 'XYZ')\r\n",
        "print('Name: ', restaurant.restaurant_name)\r\n",
        "print('Type: ', restaurant.cuisine_type)"
      ],
      "execution_count": null,
      "outputs": [
        {
          "output_type": "stream",
          "text": [
            "Name:  A One Restaurant\n",
            "Type:  XYZ\n"
          ],
          "name": "stdout"
        }
      ]
    },
    {
      "cell_type": "code",
      "metadata": {
        "colab": {
          "base_uri": "https://localhost:8080/"
        },
        "id": "k2CpYNEmluab",
        "outputId": "3c7f3ab5-fb4e-463e-f68c-e176aa4f657a"
      },
      "source": [
        "restaurant.describe_restaurant()"
      ],
      "execution_count": null,
      "outputs": [
        {
          "output_type": "stream",
          "text": [
            "A One Restaurant XYZ\n"
          ],
          "name": "stdout"
        }
      ]
    },
    {
      "cell_type": "code",
      "metadata": {
        "colab": {
          "base_uri": "https://localhost:8080/"
        },
        "id": "OyUbAnArmVEA",
        "outputId": "d6506feb-a80c-4e98-e9cc-6158f6988571"
      },
      "source": [
        "restaurant.open_restaurant()"
      ],
      "execution_count": null,
      "outputs": [
        {
          "output_type": "stream",
          "text": [
            "The A One Restaurant Is Open\n"
          ],
          "name": "stdout"
        }
      ]
    },
    {
      "cell_type": "markdown",
      "metadata": {
        "id": "J_pyXWexKzdz"
      },
      "source": [
        "# 9-2 Three Restaurant"
      ]
    },
    {
      "cell_type": "code",
      "metadata": {
        "id": "CWHzdQgdmZos"
      },
      "source": [
        "r1 = Restaurant('ABC Restaurant', 'ABC')\r\n",
        "r2 = Restaurant('XYZ Restaurant', 'XYZ')\r\n",
        "r3 = Restaurant('Test Restaurant', 'Test')"
      ],
      "execution_count": null,
      "outputs": []
    },
    {
      "cell_type": "code",
      "metadata": {
        "colab": {
          "base_uri": "https://localhost:8080/"
        },
        "id": "SwNSCshsnjcE",
        "outputId": "6df834b3-59d4-4521-f2c7-3ea25bd5cb5c"
      },
      "source": [
        "r1.describe_restaurant()\r\n",
        "r2.describe_restaurant()\r\n",
        "r3.describe_restaurant()"
      ],
      "execution_count": null,
      "outputs": [
        {
          "output_type": "stream",
          "text": [
            "ABC Restaurant ABC\n",
            "XYZ Restaurant XYZ\n",
            "Test Restaurant Test\n"
          ],
          "name": "stdout"
        }
      ]
    },
    {
      "cell_type": "markdown",
      "metadata": {
        "id": "osHwgkU4K9AK"
      },
      "source": [
        "# 9-3 Users"
      ]
    },
    {
      "cell_type": "code",
      "metadata": {
        "id": "WqmeC-SAnt-I"
      },
      "source": [
        "class User():\r\n",
        "  def __init__(self, first_name, last_name, gender, email, password, ):\r\n",
        "    self.first_name = first_name\r\n",
        "    self.last_name = last_name\r\n",
        "    self.gender = gender\r\n",
        "    self.email = email\r\n",
        "    self.password = password\r\n",
        "\r\n",
        "  def describe_user(self):\r\n",
        "    print(f'User Name is {self.first_name} {self.last_name}' )\r\n",
        "    print(f'User is {self.gender} by gender')\r\n",
        "    print(f'User email addres is {self.email}')\r\n",
        "  \r\n",
        "  def greet_user(self):\r\n",
        "    if self.gender.lower() == 'female':\r\n",
        "      print(f\"Welcome Miss {self.first_name} {self.last_name}\")\r\n",
        "    else:\r\n",
        "      print(f\"Welcome Mr. {self.first_name} {self.last_name}\")"
      ],
      "execution_count": null,
      "outputs": []
    },
    {
      "cell_type": "code",
      "metadata": {
        "id": "G4EYXFfKqDjI"
      },
      "source": [
        "user1 = User('Sharafat', 'Khan', 'Male', 'skhan@gmail.com', 'admin123')\r\n",
        "user2 = User('Maria', 'Khan', 'Female', 'mariakhan@gmail.com', 'maria123')"
      ],
      "execution_count": null,
      "outputs": []
    },
    {
      "cell_type": "code",
      "metadata": {
        "colab": {
          "base_uri": "https://localhost:8080/"
        },
        "id": "HtDG4nD8qfJt",
        "outputId": "ea1ea36a-7528-4661-e5ec-6659d8575587"
      },
      "source": [
        "user1.describe_user()\r\n",
        "user1.greet_user()"
      ],
      "execution_count": null,
      "outputs": [
        {
          "output_type": "stream",
          "text": [
            "User Name is Sharafat Khan\n",
            "User is Male by gender\n",
            "User email addres is skhan@gmail.com\n",
            "Welcome Mr. Sharafat Khan\n"
          ],
          "name": "stdout"
        }
      ]
    },
    {
      "cell_type": "code",
      "metadata": {
        "colab": {
          "base_uri": "https://localhost:8080/"
        },
        "id": "BD3jf3lOq0ZO",
        "outputId": "9732eca7-21ea-4c3c-c7db-f17964f4c95c"
      },
      "source": [
        "user2.describe_user()\r\n",
        "user2.greet_user()"
      ],
      "execution_count": null,
      "outputs": [
        {
          "output_type": "stream",
          "text": [
            "User Name is Maria Khan\n",
            "User is Female by gender\n",
            "User email addres is mariakhan@gmail.com\n",
            "Welcome Miss Maria Khan\n"
          ],
          "name": "stdout"
        }
      ]
    },
    {
      "cell_type": "markdown",
      "metadata": {
        "id": "Mho4jD-crUxs"
      },
      "source": [
        "# 9.4  Number Served"
      ]
    },
    {
      "cell_type": "code",
      "metadata": {
        "id": "Lmb0_zoFrBhA"
      },
      "source": [
        "class Restaurant():\r\n",
        "  def __init__(self, restaurant_name, cuisine_type, number_served = 0):\r\n",
        "    self.restaurant_name = restaurant_name\r\n",
        "    self.cuisine_type = cuisine_type\r\n",
        "    self.number_served = number_served\r\n",
        "\r\n",
        "  def describe_restaurant(self):\r\n",
        "    print(self.restaurant_name, self.cuisine_type)\r\n",
        "\r\n",
        "  def open_restaurant(self):\r\n",
        "    print(\"The \" +str(self.restaurant_name)+  \" Is Open\")\r\n",
        "\r\n",
        "  def set_number_served(self, number):\r\n",
        "    self.number_served = number\r\n",
        "\r\n",
        "  def increment_number_served(self):\r\n",
        "    self.number_served += self.number_served"
      ],
      "execution_count": 3,
      "outputs": []
    },
    {
      "cell_type": "code",
      "metadata": {
        "id": "wcGXeqqurZAo"
      },
      "source": [
        "rest = Restaurant('A One Restaurant', 'XYZ')"
      ],
      "execution_count": null,
      "outputs": []
    },
    {
      "cell_type": "code",
      "metadata": {
        "colab": {
          "base_uri": "https://localhost:8080/"
        },
        "id": "gYjGjCOjs0Tr",
        "outputId": "f577296e-4ee3-489b-e37b-d6b90ad7c8fa"
      },
      "source": [
        "rest.number_served"
      ],
      "execution_count": null,
      "outputs": [
        {
          "output_type": "execute_result",
          "data": {
            "text/plain": [
              "0"
            ]
          },
          "metadata": {
            "tags": []
          },
          "execution_count": 44
        }
      ]
    },
    {
      "cell_type": "code",
      "metadata": {
        "id": "AmyQ1kwNs3_o"
      },
      "source": [
        "rest.number_served = 10"
      ],
      "execution_count": null,
      "outputs": []
    },
    {
      "cell_type": "code",
      "metadata": {
        "colab": {
          "base_uri": "https://localhost:8080/"
        },
        "id": "DQHHUyJGtDPZ",
        "outputId": "5fce60b7-76ff-481b-b987-99721c35f110"
      },
      "source": [
        "rest.number_served"
      ],
      "execution_count": null,
      "outputs": [
        {
          "output_type": "execute_result",
          "data": {
            "text/plain": [
              "10"
            ]
          },
          "metadata": {
            "tags": []
          },
          "execution_count": 46
        }
      ]
    },
    {
      "cell_type": "code",
      "metadata": {
        "id": "HptIySZdtEdd"
      },
      "source": [
        "rest.set_number_served(10)"
      ],
      "execution_count": null,
      "outputs": []
    },
    {
      "cell_type": "code",
      "metadata": {
        "colab": {
          "base_uri": "https://localhost:8080/"
        },
        "id": "rvuzEn2Ttcom",
        "outputId": "502ba29c-ebcf-458f-b17b-b734d121d112"
      },
      "source": [
        "rest.number_served"
      ],
      "execution_count": null,
      "outputs": [
        {
          "output_type": "execute_result",
          "data": {
            "text/plain": [
              "50"
            ]
          },
          "metadata": {
            "tags": []
          },
          "execution_count": 55
        }
      ]
    },
    {
      "cell_type": "code",
      "metadata": {
        "colab": {
          "base_uri": "https://localhost:8080/"
        },
        "id": "t_oDoNNutdnM",
        "outputId": "61740a1a-4ce8-4626-8064-11ebbd77cdcf"
      },
      "source": [
        "rest.increment_number_served()\r\n",
        "rest.number_served"
      ],
      "execution_count": null,
      "outputs": [
        {
          "output_type": "execute_result",
          "data": {
            "text/plain": [
              "40"
            ]
          },
          "metadata": {
            "tags": []
          },
          "execution_count": 85
        }
      ]
    },
    {
      "cell_type": "markdown",
      "metadata": {
        "id": "g-rgWuszurY1"
      },
      "source": [
        "# 9-5. Login Attempts"
      ]
    },
    {
      "cell_type": "code",
      "metadata": {
        "id": "O5GzxuGUuuez"
      },
      "source": [
        "class User():\r\n",
        "  def __init__(self, first_name, last_name, gender, email, password):\r\n",
        "    self.first_name = first_name\r\n",
        "    self.last_name = last_name\r\n",
        "    self.gender = gender\r\n",
        "    self.email = email\r\n",
        "    self.password = password\r\n",
        "    self.login_attempts = 0\r\n",
        "\r\n",
        "  def describe_user(self):\r\n",
        "    print(f'User Name is {self.first_name} {self.last_name}' )\r\n",
        "    print(f'User is {self.gender} by gender')\r\n",
        "    print(f'User email addres is {self.email}')\r\n",
        "  \r\n",
        "  def greet_user(self):\r\n",
        "    if self.gender.lower() == 'female':\r\n",
        "      print(f\"Welcome Miss {self.first_name} {self.last_name}\")\r\n",
        "    else:\r\n",
        "      print(f\"Welcome Mr. {self.first_name} {self.last_name}\")\r\n",
        "\r\n",
        "  def increment_login_attempts(self):\r\n",
        "    self.login_attempts += 1\r\n",
        "\r\n",
        "  def  reset_login_attempts(self):\r\n",
        "    self.login_attempts = 0"
      ],
      "execution_count": null,
      "outputs": []
    },
    {
      "cell_type": "code",
      "metadata": {
        "id": "A-X-skh8u2Bm"
      },
      "source": [
        "user1 = User('Sharafat', 'Khan', 'Male', 'skhan@gmail.com', 'admin123')\r\n",
        "user2 = User('Maria', 'Khan', 'Female', 'mariakhan@gmail.com', 'maria123')"
      ],
      "execution_count": null,
      "outputs": []
    },
    {
      "cell_type": "code",
      "metadata": {
        "colab": {
          "base_uri": "https://localhost:8080/"
        },
        "id": "Q5AugULewVif",
        "outputId": "0f238153-776b-4e29-a24a-9575556e6e6c"
      },
      "source": [
        "user1.increment_login_attempts()\r\n",
        "user1.login_attempts"
      ],
      "execution_count": null,
      "outputs": [
        {
          "output_type": "execute_result",
          "data": {
            "text/plain": [
              "3"
            ]
          },
          "metadata": {
            "tags": []
          },
          "execution_count": 117
        }
      ]
    },
    {
      "cell_type": "code",
      "metadata": {
        "colab": {
          "base_uri": "https://localhost:8080/"
        },
        "id": "2OzO5ytIxN2j",
        "outputId": "5cffdf34-d2d8-4565-f82e-7c6ab56c9fe7"
      },
      "source": [
        "user1.reset_login_attempts()\r\n",
        "user1.login_attempts"
      ],
      "execution_count": null,
      "outputs": [
        {
          "output_type": "execute_result",
          "data": {
            "text/plain": [
              "0"
            ]
          },
          "metadata": {
            "tags": []
          },
          "execution_count": 119
        }
      ]
    },
    {
      "cell_type": "markdown",
      "metadata": {
        "id": "oc0rRdVGxt-i"
      },
      "source": [
        "# 9-6. Ice Cream Stand:"
      ]
    },
    {
      "cell_type": "code",
      "metadata": {
        "id": "298bjhPDxe90"
      },
      "source": [
        "class IceCreamStand(Restaurant):\r\n",
        "  def __init__(self, restaurant_name, cuisine_type):\r\n",
        "    super().__init__(restaurant_name, cuisine_type)\r\n",
        "\r\n",
        "    self.flavors = ['A', 'B', 'C', 'D']\r\n",
        "  \r\n",
        "  def showFlavors(self):\r\n",
        "    print('Available Flavors are: ')\r\n",
        "    for flavor in self.flavors: \r\n",
        "      print(flavor, end = ',')"
      ],
      "execution_count": 4,
      "outputs": []
    },
    {
      "cell_type": "code",
      "metadata": {
        "id": "uhr-BXo3xvQK"
      },
      "source": [
        "icStand = IceCreamStand('Baskin', 'Yougs')"
      ],
      "execution_count": 6,
      "outputs": []
    },
    {
      "cell_type": "code",
      "metadata": {
        "colab": {
          "base_uri": "https://localhost:8080/"
        },
        "id": "Rc23nCQizfvN",
        "outputId": "2c268c92-af96-4374-f02b-56a1b55110d6"
      },
      "source": [
        "icStand.showFlavors()"
      ],
      "execution_count": 7,
      "outputs": [
        {
          "output_type": "stream",
          "text": [
            "Available Flavors are: \n",
            "A,B,C,D,"
          ],
          "name": "stdout"
        }
      ]
    },
    {
      "cell_type": "markdown",
      "metadata": {
        "id": "K4MBSsL9z7f7"
      },
      "source": [
        "# 9-7. Admin"
      ]
    },
    {
      "cell_type": "code",
      "metadata": {
        "id": "DQj4Hr47Gcx5"
      },
      "source": [
        "class User():\r\n",
        "  def __init__(self, first_name, last_name, gender, email, password, ):\r\n",
        "    self.first_name = first_name\r\n",
        "    self.last_name = last_name\r\n",
        "    self.gender = gender\r\n",
        "    self.email = email\r\n",
        "    self.password = password\r\n",
        "\r\n",
        "  def describe_user(self):\r\n",
        "    print(f'User Name is {self.first_name} {self.last_name}' )\r\n",
        "    print(f'User is {self.gender} by gender')\r\n",
        "    print(f'User email addres is {self.email}')\r\n",
        "  \r\n",
        "  def greet_user(self):\r\n",
        "    if self.gender.lower() == 'female':\r\n",
        "      print(f\"Welcome Miss {self.first_name} {self.last_name}\")\r\n",
        "    else:\r\n",
        "      print(f\"Welcome Mr. {self.first_name} {self.last_name}\")"
      ],
      "execution_count": 10,
      "outputs": []
    },
    {
      "cell_type": "code",
      "metadata": {
        "id": "34qrKfn0zio0"
      },
      "source": [
        "class Admin(User):\r\n",
        "  def __init__(self, first_name, last_name, gender, email, password):\r\n",
        "    super().__init__(first_name, last_name, gender, email, password)\r\n",
        "\r\n",
        "    self.privileges = ['Can Add Post', 'Can Delete Post', 'Can Ban User']\r\n",
        "\r\n",
        "  def show_privilegs(self):\r\n",
        "    print('Admin Privileges Are: ')\r\n",
        "    for privilege in self.privileges:\r\n",
        "      print(privilege, end=', ')"
      ],
      "execution_count": 35,
      "outputs": []
    },
    {
      "cell_type": "code",
      "metadata": {
        "id": "lul5bXWMz8uT"
      },
      "source": [
        "admin = Admin('Sharafat', 'Khan', 'Male', 'skhan@test.com', 'admin123')"
      ],
      "execution_count": 33,
      "outputs": []
    },
    {
      "cell_type": "code",
      "metadata": {
        "colab": {
          "base_uri": "https://localhost:8080/"
        },
        "id": "yfc4od_aGrmJ",
        "outputId": "09c06a61-07b3-4553-accd-3d3242a96c29"
      },
      "source": [
        "admin.show_privilegs()"
      ],
      "execution_count": 28,
      "outputs": [
        {
          "output_type": "stream",
          "text": [
            "Admin Privileges Are: \n",
            "Can Add Post,Can Delete Post,Can Ban User,"
          ],
          "name": "stdout"
        }
      ]
    },
    {
      "cell_type": "code",
      "metadata": {
        "colab": {
          "base_uri": "https://localhost:8080/"
        },
        "id": "_ZvuBBR2HhgW",
        "outputId": "73b1867e-9219-416a-8abc-e376cbf15140"
      },
      "source": [
        "admin.show_privilegs()"
      ],
      "execution_count": 36,
      "outputs": [
        {
          "output_type": "stream",
          "text": [
            "Admin Privileges Are: \n",
            "Can Add Post, Can Delete Post, Can Ban User, "
          ],
          "name": "stdout"
        }
      ]
    },
    {
      "cell_type": "markdown",
      "metadata": {
        "id": "6rYIT2T9LmMm"
      },
      "source": [
        "# 9-8 Privileges"
      ]
    },
    {
      "cell_type": "code",
      "metadata": {
        "id": "QvGC4gE4Imac"
      },
      "source": [
        "class Privileges():\r\n",
        "  def __init__(self):\r\n",
        "    self.privileges = ['Can Add Post', 'Can Delete Post', 'Can Ban User']\r\n",
        "\r\n",
        "  def show_privileges(self):\r\n",
        "    print('Admin Privileges Are: ')\r\n",
        "    for privilege in self.privileges:\r\n",
        "      print(privilege, end=', ')"
      ],
      "execution_count": 66,
      "outputs": []
    },
    {
      "cell_type": "code",
      "metadata": {
        "id": "eg_-q7jqN0uX"
      },
      "source": [
        "class Admin():\r\n",
        "  def __init__(self, first_name, last_name, gender, email, password):\r\n",
        "\r\n",
        "    self.privileges = Privileges()"
      ],
      "execution_count": 67,
      "outputs": []
    },
    {
      "cell_type": "code",
      "metadata": {
        "id": "nyiJ0iXfQ8YM"
      },
      "source": [
        "adm = Admin('Sharafat', 'Khan', 'Male', 'skhan@test.com', 'admin123')"
      ],
      "execution_count": 68,
      "outputs": []
    },
    {
      "cell_type": "code",
      "metadata": {
        "colab": {
          "base_uri": "https://localhost:8080/"
        },
        "id": "V3CH9oX0RQC_",
        "outputId": "013c10ba-f289-43e4-b2a8-0d331262050a"
      },
      "source": [
        "adm.privileges.show_privileges()\r\n"
      ],
      "execution_count": 69,
      "outputs": [
        {
          "output_type": "stream",
          "text": [
            "Admin Privileges Are: \n",
            "Can Add Post, Can Delete Post, Can Ban User, "
          ],
          "name": "stdout"
        }
      ]
    },
    {
      "cell_type": "code",
      "metadata": {
        "id": "sjCiJzgESIFF"
      },
      "source": [
        ""
      ],
      "execution_count": 69,
      "outputs": []
    },
    {
      "cell_type": "markdown",
      "metadata": {
        "id": "wXjJCzXJaaLf"
      },
      "source": [
        "# 9-9 Battery Upgrage"
      ]
    },
    {
      "cell_type": "code",
      "metadata": {
        "id": "pE45xEG8aftp"
      },
      "source": [
        "#Class Car\r\n",
        "\r\n",
        "class Car(): \r\n",
        "    def __init__(self, make, model, year):\r\n",
        "        self.make = make\r\n",
        "        self.model = model\r\n",
        "        self.year = year\r\n",
        "        self.odometer_reading = 0\r\n",
        "    def fill_gas_tank(self):        \r\n",
        "        print(\"This car is filling gas tank!\")\r\n",
        "    def get_descriptive_name(self):\r\n",
        "        long_name = str(self.year) + ' ' + self.make + ' ' + self.model\r\n",
        "        return long_name.title()\r\n",
        "\r\n",
        "    def read_odometer(self):\r\n",
        "        print(\"This car has \" + str(self.odometer_reading) + \" miles on it.\")\r\n",
        "\r\n",
        "    def update_odometer(self, mileage):\r\n",
        "        if mileage >= self.odometer_reading:\r\n",
        "            self.odometer_reading = mileage\r\n",
        "        else:\r\n",
        "            print(\"You can't roll back an odometer!\")\r\n",
        "\r\n",
        "    def increment_odometer(self, miles):\r\n",
        "        self.odometer_reading += miles\r\n",
        "\r\n",
        "\r\n",
        "# Class ElectricCar\r\n",
        "\r\n",
        "class ElectricCar(Car):\r\n",
        "    def __init__(self, make,model,year):\r\n",
        "        super().__init__(make, model, year) \r\n",
        "        self.battery = Battery(27, 'Osaka')\r\n",
        "\r\n",
        "    def describe_eCar(self):\r\n",
        "       print(self.model, self.make, self.year, self.battery.get_range())\r\n",
        "\r\n",
        "\r\n",
        "# Class Battery\r\n",
        "\r\n",
        "class Battery():\r\n",
        "  def __init__(self, plates, manufact, battery_size = 70):\r\n",
        "    self.battery_size = battery_size\r\n",
        "    self.plates = plates\r\n",
        "    self.manufact = manufact\r\n",
        "\r\n",
        "  def get_range(self):\r\n",
        "    return self.battery_size"
      ],
      "execution_count": 106,
      "outputs": []
    },
    {
      "cell_type": "code",
      "metadata": {
        "colab": {
          "base_uri": "https://localhost:8080/"
        },
        "id": "ut2vT_gMag24",
        "outputId": "a6c1f144-5c52-46a7-cfa0-f8365fd6e801"
      },
      "source": [
        "my_tesla = ElectricCar('tesla', 'model s', 2016)\r\n",
        "print(my_tesla.get_descriptive_name())\r\n",
        "my_tesla.describe_eCar()"
      ],
      "execution_count": 107,
      "outputs": [
        {
          "output_type": "stream",
          "text": [
            "2016 Tesla Model S\n",
            "model s tesla 2016 70\n"
          ],
          "name": "stdout"
        }
      ]
    },
    {
      "cell_type": "code",
      "metadata": {
        "id": "MoLKdKyyaqEI"
      },
      "source": [
        "class Battery():\r\n",
        "  def __init__(self, plates, manufact, battery_size = 70):\r\n",
        "    self.battery_size = battery_size\r\n",
        "    self.plates = plates\r\n",
        "    self.manufact = manufact\r\n",
        "\r\n",
        "  def get_range(self):\r\n",
        "    return self.battery_size \r\n",
        "\r\n",
        "  def upgrade_battery(self):\r\n",
        "    if self.battery_size != 85:\r\n",
        "      self.battery_size = 85\r\n"
      ],
      "execution_count": 108,
      "outputs": []
    },
    {
      "cell_type": "code",
      "metadata": {
        "id": "zLeJR9u6eBfU"
      },
      "source": [
        "eCar = ElectricCar('tesla', 'model s', 2016)"
      ],
      "execution_count": 109,
      "outputs": []
    },
    {
      "cell_type": "code",
      "metadata": {
        "colab": {
          "base_uri": "https://localhost:8080/"
        },
        "id": "n_UKrHfdeIBA",
        "outputId": "1ed860c0-4b62-4483-b714-f5eee7954975"
      },
      "source": [
        "eCar.battery.get_range()"
      ],
      "execution_count": 110,
      "outputs": [
        {
          "output_type": "execute_result",
          "data": {
            "text/plain": [
              "70"
            ]
          },
          "metadata": {
            "tags": []
          },
          "execution_count": 110
        }
      ]
    },
    {
      "cell_type": "code",
      "metadata": {
        "id": "MBBkib3WeUIU"
      },
      "source": [
        "eCar.battery.upgrade_battery()"
      ],
      "execution_count": 111,
      "outputs": []
    },
    {
      "cell_type": "code",
      "metadata": {
        "colab": {
          "base_uri": "https://localhost:8080/"
        },
        "id": "YCLfuXZRfnag",
        "outputId": "b951456d-be50-4af5-ccbd-f2ce516ae044"
      },
      "source": [
        "eCar.battery.get_range()"
      ],
      "execution_count": 112,
      "outputs": [
        {
          "output_type": "execute_result",
          "data": {
            "text/plain": [
              "85"
            ]
          },
          "metadata": {
            "tags": []
          },
          "execution_count": 112
        }
      ]
    },
    {
      "cell_type": "code",
      "metadata": {
        "id": "ZNxXOQrMgUmm"
      },
      "source": [
        ""
      ],
      "execution_count": null,
      "outputs": []
    }
  ]
}