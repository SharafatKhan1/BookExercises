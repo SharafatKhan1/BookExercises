{
  "nbformat": 4,
  "nbformat_minor": 0,
  "metadata": {
    "colab": {
      "name": "Chapter#2.ipynb",
      "provenance": [],
      "collapsed_sections": []
    },
    "kernelspec": {
      "name": "python3",
      "display_name": "Python 3"
    }
  },
  "cells": [
    {
      "cell_type": "markdown",
      "metadata": {
        "id": "dUhUe4ppxg2U"
      },
      "source": [
        "# Chapter NO. 02"
      ]
    },
    {
      "cell_type": "markdown",
      "metadata": {
        "id": "c_cUm7W3yHhX"
      },
      "source": [
        "# 2.1 Simple Message"
      ]
    },
    {
      "cell_type": "code",
      "metadata": {
        "colab": {
          "base_uri": "https://localhost:8080/"
        },
        "id": "L_k1Vclpxv4n",
        "outputId": "4aec5568-67f5-4384-8245-de03d2092df2"
      },
      "source": [
        "simple_message = \"Hello World!\"\r\n",
        "print(simple_message)"
      ],
      "execution_count": 3,
      "outputs": [
        {
          "output_type": "stream",
          "text": [
            "Hello World!\n"
          ],
          "name": "stdout"
        }
      ]
    },
    {
      "cell_type": "markdown",
      "metadata": {
        "id": "tlD_zkRKyLIc"
      },
      "source": [
        "# 2.2 Simple Messages"
      ]
    },
    {
      "cell_type": "code",
      "metadata": {
        "colab": {
          "base_uri": "https://localhost:8080/"
        },
        "id": "kCiOTMa7x8gu",
        "outputId": "ea2ab620-d288-4e25-a654-4f722d36f5dd"
      },
      "source": [
        "simple_messages = \"Hello Everyone!\"\r\n",
        "print(simple_messages)"
      ],
      "execution_count": 4,
      "outputs": [
        {
          "output_type": "stream",
          "text": [
            "Hello Everyone!\n"
          ],
          "name": "stdout"
        }
      ]
    },
    {
      "cell_type": "code",
      "metadata": {
        "colab": {
          "base_uri": "https://localhost:8080/"
        },
        "id": "GzeO6CZOyMjX",
        "outputId": "6626057c-8617-4b9d-9fea-e4e81129477b"
      },
      "source": [
        "simple_messages = \"Welcome to python!\"\r\n",
        "print(simple_messages)"
      ],
      "execution_count": 5,
      "outputs": [
        {
          "output_type": "stream",
          "text": [
            "Welcome to python!\n"
          ],
          "name": "stdout"
        }
      ]
    },
    {
      "cell_type": "markdown",
      "metadata": {
        "id": "j8FywJFByy9O"
      },
      "source": [
        "# 2.3 Personal Message"
      ]
    },
    {
      "cell_type": "code",
      "metadata": {
        "colab": {
          "base_uri": "https://localhost:8080/"
        },
        "id": "3Nu3Y_VhyrO-",
        "outputId": "6023524b-f8c3-46b3-c7e9-fc6c7e61cbda"
      },
      "source": [
        "person_Name = \"Sharafat Khan\"\r\n",
        "print('Hello ' + person_Name +', would you like to learn some python code today?')"
      ],
      "execution_count": 8,
      "outputs": [
        {
          "output_type": "stream",
          "text": [
            "Hello Sharafat Khan, would you like to learn some python code today?\n"
          ],
          "name": "stdout"
        }
      ]
    },
    {
      "cell_type": "markdown",
      "metadata": {
        "id": "JGKmOgfvzmes"
      },
      "source": [
        "# 2.4 Name Cases"
      ]
    },
    {
      "cell_type": "code",
      "metadata": {
        "colab": {
          "base_uri": "https://localhost:8080/"
        },
        "id": "U2iAAfvMzNxB",
        "outputId": "81f418c1-505c-4d30-a3fd-58f47bca8874"
      },
      "source": [
        "nameCases = 'ShaRaFat KhAn'\r\n",
        "print(\"Actual String: \", nameCases + '\\n')\r\n",
        "print(\"Lower Case: \",nameCases.lower()  + '\\n')\r\n",
        "print(\"Upper Case: \", nameCases.upper() + '\\n')\r\n",
        "print(\"Title: \", nameCases.title())"
      ],
      "execution_count": 10,
      "outputs": [
        {
          "output_type": "stream",
          "text": [
            "Actual String:  ShaRaFat KhAn\n",
            "\n",
            "Lower Case:  sharafat khan\n",
            "\n",
            "Upper Case:  SHARAFAT KHAN\n",
            "\n",
            "Title:  Sharafat Khan\n"
          ],
          "name": "stdout"
        }
      ]
    },
    {
      "cell_type": "markdown",
      "metadata": {
        "id": "IWaufEZL0OAp"
      },
      "source": [
        "# 2.5 . Famous Quote"
      ]
    },
    {
      "cell_type": "code",
      "metadata": {
        "colab": {
          "base_uri": "https://localhost:8080/"
        },
        "id": "EBBYzwLuzn-z",
        "outputId": "c080a43a-048c-49ab-a209-e8c3ee23c063"
      },
      "source": [
        "famousQuote = 'Alber Einstein once said, \"A person who never made a mistak never tried something new.\" '\r\n",
        "print(famousQuote)"
      ],
      "execution_count": 11,
      "outputs": [
        {
          "output_type": "stream",
          "text": [
            "Alber Einstein once said, \"A person who never made a mistak never tried something new.\" \n"
          ],
          "name": "stdout"
        }
      ]
    },
    {
      "cell_type": "markdown",
      "metadata": {
        "id": "2T0MO2lg0jA3"
      },
      "source": [
        "#2.6 Famous Quote 2"
      ]
    },
    {
      "cell_type": "code",
      "metadata": {
        "colab": {
          "base_uri": "https://localhost:8080/"
        },
        "id": "l_TuEvJI0Sxa",
        "outputId": "1a0c2a6f-ff55-429b-b86c-4e82795d6478"
      },
      "source": [
        "famous_person = 'Alber Einstein'\r\n",
        "message = famous_person + 'once said, \"A person who never made a mistak never tried something new.\"'\r\n",
        "print(message)"
      ],
      "execution_count": 12,
      "outputs": [
        {
          "output_type": "stream",
          "text": [
            "Alber Einsteinonce said, \"A person who never made a mistak never tried something new.\"\n"
          ],
          "name": "stdout"
        }
      ]
    },
    {
      "cell_type": "markdown",
      "metadata": {
        "id": "2lEQBT601azo"
      },
      "source": [
        "# 2.7 Stripping Names"
      ]
    },
    {
      "cell_type": "code",
      "metadata": {
        "colab": {
          "base_uri": "https://localhost:8080/"
        },
        "id": "UbVENZ-i1wAp",
        "outputId": "ce674ce2-dcda-49e9-9a68-630404ef217c"
      },
      "source": [
        "strippingName = '  Sharafat Khan  '\r\n",
        "print(\"Actual Name: \", \"'\"+ strippingName + \"'\\n\")\r\n",
        "print('Left Strip:', \"'\"+ strippingName.lstrip() + \"'\\n\")\r\n",
        "print('Right Strip:', \"'\"+ strippingName.rstrip() + \"'\\n\" )\r\n",
        "print('Strip:', \"'\"+ strippingName.strip() +\"'\")"
      ],
      "execution_count": 15,
      "outputs": [
        {
          "output_type": "stream",
          "text": [
            "Actual Name:  '  Sharafat Khan  '\n",
            "\n",
            "Left Strip: 'Sharafat Khan  '\n",
            "\n",
            "Right Strip: '  Sharafat Khan'\n",
            "\n",
            "Strip: 'Sharafat Khan'\n"
          ],
          "name": "stdout"
        }
      ]
    },
    {
      "cell_type": "markdown",
      "metadata": {
        "id": "QbUGJ5SW20aR"
      },
      "source": [
        "# 2.8 Number Eight"
      ]
    },
    {
      "cell_type": "code",
      "metadata": {
        "colab": {
          "base_uri": "https://localhost:8080/"
        },
        "id": "PptLxybx15yL",
        "outputId": "fccbe547-9ef7-4c8d-9624-d745188d5f55"
      },
      "source": [
        "print(\"Addition: \",5 + 3)\r\n",
        "print(\"Subtraction:\", 10 - 2)\r\n",
        "print(\"Multiplication: \", 2 * 4)\r\n",
        "print(\"Division: \", 16 // 2)"
      ],
      "execution_count": 16,
      "outputs": [
        {
          "output_type": "stream",
          "text": [
            "Addition:  8\n",
            "Subtraction: 8\n",
            "Multiplication:  8\n",
            "Division:  8\n"
          ],
          "name": "stdout"
        }
      ]
    },
    {
      "cell_type": "markdown",
      "metadata": {
        "id": "Ee9cBe1d6rz1"
      },
      "source": [
        "# 2.9 Favorite Number"
      ]
    },
    {
      "cell_type": "code",
      "metadata": {
        "colab": {
          "base_uri": "https://localhost:8080/"
        },
        "id": "kLo0Fx203A-G",
        "outputId": "da79f664-0f5a-4ff2-90a3-12760a908162"
      },
      "source": [
        "fav_number = 9\r\n",
        "message = str(fav_number) + \" is my favority number.\"\r\n",
        "print(message)"
      ],
      "execution_count": 34,
      "outputs": [
        {
          "output_type": "stream",
          "text": [
            "9 is my favority number.\n"
          ],
          "name": "stdout"
        }
      ]
    },
    {
      "cell_type": "markdown",
      "metadata": {
        "id": "BudVvTOF7h78"
      },
      "source": [
        "# 2.10 Adding Comments"
      ]
    },
    {
      "cell_type": "code",
      "metadata": {
        "colab": {
          "base_uri": "https://localhost:8080/"
        },
        "id": "HQYYwORF31WI",
        "outputId": "229f03fd-5e85-428a-bd6f-a75b5906ada4"
      },
      "source": [
        "# Sharafat Khan, Feb 3, 2020\r\n",
        "#This program performs simple arithematic operations. \r\n",
        "\r\n",
        "print(\"Addition: \",5 + 3)\r\n",
        "print(\"Subtraction:\", 10 - 2)\r\n",
        "print(\"Multiplication: \", 2 * 4)\r\n",
        "print(\"Division: \", 16 // 2)"
      ],
      "execution_count": 36,
      "outputs": [
        {
          "output_type": "stream",
          "text": [
            "Addition:  8\n",
            "Subtraction: 8\n",
            "Multiplication:  8\n",
            "Division:  8\n"
          ],
          "name": "stdout"
        }
      ]
    },
    {
      "cell_type": "markdown",
      "metadata": {
        "id": "WwvrZWoo9Lpg"
      },
      "source": [
        "# 2.11 Zen of Python"
      ]
    },
    {
      "cell_type": "code",
      "metadata": {
        "colab": {
          "base_uri": "https://localhost:8080/"
        },
        "id": "jWmsEPa27842",
        "outputId": "647fadd9-c335-4d16-9d75-27acc0f160dc"
      },
      "source": [
        "import this"
      ],
      "execution_count": 37,
      "outputs": [
        {
          "output_type": "stream",
          "text": [
            "The Zen of Python, by Tim Peters\n",
            "\n",
            "Beautiful is better than ugly.\n",
            "Explicit is better than implicit.\n",
            "Simple is better than complex.\n",
            "Complex is better than complicated.\n",
            "Flat is better than nested.\n",
            "Sparse is better than dense.\n",
            "Readability counts.\n",
            "Special cases aren't special enough to break the rules.\n",
            "Although practicality beats purity.\n",
            "Errors should never pass silently.\n",
            "Unless explicitly silenced.\n",
            "In the face of ambiguity, refuse the temptation to guess.\n",
            "There should be one-- and preferably only one --obvious way to do it.\n",
            "Although that way may not be obvious at first unless you're Dutch.\n",
            "Now is better than never.\n",
            "Although never is often better than *right* now.\n",
            "If the implementation is hard to explain, it's a bad idea.\n",
            "If the implementation is easy to explain, it may be a good idea.\n",
            "Namespaces are one honking great idea -- let's do more of those!\n"
          ],
          "name": "stdout"
        }
      ]
    },
    {
      "cell_type": "code",
      "metadata": {
        "id": "3G2VF_IA9Emi"
      },
      "source": [
        ""
      ],
      "execution_count": null,
      "outputs": []
    }
  ]
}