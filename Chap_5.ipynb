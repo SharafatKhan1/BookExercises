{
  "nbformat": 4,
  "nbformat_minor": 0,
  "metadata": {
    "colab": {
      "name": "Chap#5.ipynb",
      "provenance": [],
      "collapsed_sections": [],
      "authorship_tag": "ABX9TyNe/tROLO5PDbMYDvdifhUY",
      "include_colab_link": true
    },
    "kernelspec": {
      "name": "python3",
      "display_name": "Python 3"
    }
  },
  "cells": [
    {
      "cell_type": "markdown",
      "metadata": {
        "id": "view-in-github",
        "colab_type": "text"
      },
      "source": [
        "<a href=\"https://colab.research.google.com/github/SharafatKhan1/BookExercises/blob/master/Chap_5.ipynb\" target=\"_parent\"><img src=\"https://colab.research.google.com/assets/colab-badge.svg\" alt=\"Open In Colab\"/></a>"
      ]
    },
    {
      "cell_type": "markdown",
      "metadata": {
        "id": "0ATvUZNeanN9"
      },
      "source": [
        "# 5.1  Conditional Tests"
      ]
    },
    {
      "cell_type": "code",
      "metadata": {
        "colab": {
          "base_uri": "https://localhost:8080/"
        },
        "id": "RmvHyVnVavZH",
        "outputId": "c3dcebe6-7fe8-4854-e224-16a01eabd51c"
      },
      "source": [
        "car = 'subaru'\r\n",
        "print(\"Is car == 'subaru'? I predict True.\")\r\n",
        "print(car == 'subaru')\r\n",
        "\r\n",
        "print(\"\\nIs car == 'Subaru'? I predict False.\")\r\n",
        "print(car == 'Subaru')\r\n",
        "\r\n",
        "\r\n",
        "print(\"\\nIs car == 'audi'? I predict False.\")\r\n",
        "print(car == 'audi')\r\n",
        "\r\n",
        "print(\"\\nIs car == 'bmw'? I predict False.\")\r\n",
        "print(car == 'bmw')\r\n"
      ],
      "execution_count": null,
      "outputs": [
        {
          "output_type": "stream",
          "text": [
            "Is car == 'subaru'? I predict True.\n",
            "True\n",
            "\n",
            "Is car == 'Subaru'? I predict False.\n",
            "False\n",
            "\n",
            "Is car == 'audi'? I predict False.\n",
            "False\n",
            "\n",
            "Is car == 'bmw'? I predict False.\n",
            "False\n"
          ],
          "name": "stdout"
        }
      ]
    },
    {
      "cell_type": "markdown",
      "metadata": {
        "id": "Vuie8d5-dAkG"
      },
      "source": [
        "# 5-2. More Conditional Tests"
      ]
    },
    {
      "cell_type": "code",
      "metadata": {
        "colab": {
          "base_uri": "https://localhost:8080/"
        },
        "id": "k7MEhu0ddH8S",
        "outputId": "093d1f61-16b9-41e9-c0c3-4825f56be6f5"
      },
      "source": [
        "nationality = 'Pakistani'\r\n",
        "print(\"Is nationality == 'Pakistani'? I predict True.\")\r\n",
        "print(nationality == 'Pakistani')\r\n",
        "\r\n",
        "print(\"\\nIs nationality != 'Pakistani'? I predict False.\")\r\n",
        "print(nationality != 'Pakistani')\r\n",
        "\r\n",
        "print(\"\\nIs nationality == 'pakistani'? I predict False.\")\r\n",
        "print(nationality == 'pakistani')\r\n",
        "\r\n",
        "print(\"\\nIs nationality.lower() = 'pakistani'? I predict True.\")\r\n",
        "print(nationality.lower() == 'pakistani')\r\n",
        "\r\n",
        "age = 18\r\n",
        "print(\"\\nIs age == 18? I predict True.\")\r\n",
        "print(age == 18)\r\n",
        "\r\n",
        "print(\"\\nIs age == 20? I predict False.\")\r\n",
        "print(age == 20)\r\n",
        "\r\n",
        "print(\"\\nIs age != 18? I predict False.\")\r\n",
        "print(age != 18)\r\n",
        "\r\n",
        "print(\"\\nIs age < 18? I predict False.\")\r\n",
        "print(age < 18)\r\n",
        "      \r\n",
        "print(\"\\nIs age > 18? I predict False.\")\r\n",
        "print(age > 18)\r\n",
        "\r\n",
        "print(\"\\nIs age <= 18? I predict True.\")\r\n",
        "print(age <= 18)\r\n",
        "\r\n",
        "print(\"\\nIs age >= 15? I predict True.\")\r\n",
        "print(age >= 15)\r\n",
        "\r\n",
        "print(\"\\nIs age >= 15 and age <= 17? I predict False.\")\r\n",
        "print(age >= 15 and age <= 17)\r\n",
        "\r\n",
        "print(\"\\nIs age >= 18 and age <= 20? I predict True.\")\r\n",
        "print(age >= 15 and age <= 20)\r\n",
        "\r\n",
        "print(\"\\nIs age <= 15 or age >= 17? I predict True.\")\r\n",
        "print(age <= 15 or age >= 17)\r\n",
        "\r\n",
        "userNames = ['skhan', 'fayyaz', 'yaseen', 'salman', 'uzaif']\r\n",
        "\r\n",
        "print(\"\\nIs skhan is in userNames? I predict True.\")\r\n",
        "print(\"skhan\" in userNames)\r\n",
        "\r\n",
        "print(\"\\nIs fahad is in userNames? I predict False.\")\r\n",
        "print(\"fahad\" in userNames)\r\n",
        "\r\n",
        "print(\"\\nIs yaseen is not in userNames? I predict False.\")\r\n",
        "print(\"yaseen\" not in userNames)\r\n",
        "\r\n",
        "\r\n",
        "      "
      ],
      "execution_count": null,
      "outputs": [
        {
          "output_type": "stream",
          "text": [
            "Is nationality == 'Pakistani'? I predict True.\n",
            "True\n",
            "\n",
            "Is nationality != 'Pakistani'? I predict False.\n",
            "False\n",
            "\n",
            "Is nationality == 'pakistani'? I predict False.\n",
            "False\n",
            "\n",
            "Is nationality.lower() = 'pakistani'? I predict True.\n",
            "True\n",
            "\n",
            "Is age == 18? I predict True.\n",
            "True\n",
            "\n",
            "Is age == 20? I predict False.\n",
            "False\n",
            "\n",
            "Is age != 18? I predict False.\n",
            "False\n",
            "\n",
            "Is age < 18? I predict False.\n",
            "False\n",
            "\n",
            "Is age > 18? I predict False.\n",
            "False\n",
            "\n",
            "Is age <= 18? I predict True.\n",
            "True\n",
            "\n",
            "Is age >= 15? I predict True.\n",
            "True\n",
            "\n",
            "Is age >= 15 and age <= 17? I predict False.\n",
            "False\n",
            "\n",
            "Is age >= 18 and age <= 20? I predict True.\n",
            "True\n",
            "\n",
            "Is age <= 15 or age >= 17? I predict True.\n",
            "True\n",
            "\n",
            "Is skhan is in userNames? I predict True.\n",
            "True\n",
            "\n",
            "Is fahad is in userNames? I predict False.\n",
            "False\n",
            "\n",
            "Is yaseen is not in userNames? I predict False.\n",
            "False\n"
          ],
          "name": "stdout"
        }
      ]
    },
    {
      "cell_type": "markdown",
      "metadata": {
        "id": "xL-F8HHuSEbL"
      },
      "source": [
        "# 5-6. Stages of Life"
      ]
    },
    {
      "cell_type": "code",
      "metadata": {
        "id": "_-jQ7VUXSJ_l",
        "colab": {
          "base_uri": "https://localhost:8080/"
        },
        "outputId": "142b9153-e527-41f0-eaca-291c3cdd3302"
      },
      "source": [
        "age = 65\r\n",
        "\r\n",
        "if age < 5:\r\n",
        "  print(\"The person is a baby.\") \r\n",
        "elif age < 4:\r\n",
        "  print(\"The person is a toddler.\")\r\n",
        "elif age < 13:\r\n",
        "  print(\"The person is a kid.\")\r\n",
        "elif age < 20:\r\n",
        "  print(\"The person is a teenager.\")\r\n",
        "elif age < 65:\r\n",
        "  print(\"The person is an adult.\")\r\n",
        "elif age >= 65:\r\n",
        "  print(\"The person is a elder.\")"
      ],
      "execution_count": 9,
      "outputs": [
        {
          "output_type": "stream",
          "text": [
            "The person is a elder.\n"
          ],
          "name": "stdout"
        }
      ]
    },
    {
      "cell_type": "code",
      "metadata": {
        "colab": {
          "base_uri": "https://localhost:8080/"
        },
        "id": "aTFornfZteYc",
        "outputId": "12ade5ba-f9d7-4538-b8b1-7223f7289875"
      },
      "source": [
        "favorite_Fruits = [\"Bananas\", \"Mango\", \"Orange\"]\r\n",
        "\r\n",
        "if \"Bananas\" in favorite_Fruits:\r\n",
        "  print(\"You really like banans\")\r\n",
        "\r\n",
        "if \"Mango\" in favorite_Fruits:\r\n",
        "  print(\"You really like Mango\")\r\n",
        "\r\n",
        "if \"Orange\" in favorite_Fruits:\r\n",
        "  print(\"You really like Orange\")\r\n",
        "\r\n",
        "if \"Apple\" in favorite_Fruits:\r\n",
        "  print(\"You really like Apple\")\r\n",
        "\r\n",
        "if \"Guava\" in favorite_Fruits:\r\n",
        "  print(\"You really like Guava\")"
      ],
      "execution_count": 10,
      "outputs": [
        {
          "output_type": "stream",
          "text": [
            "You really like banans\n",
            "You really like Mango\n",
            "You really like Orange\n"
          ],
          "name": "stdout"
        }
      ]
    },
    {
      "cell_type": "markdown",
      "metadata": {
        "id": "hetdfbMOzlV1"
      },
      "source": [
        "# 5-8. Hello Admin:"
      ]
    },
    {
      "cell_type": "code",
      "metadata": {
        "colab": {
          "base_uri": "https://localhost:8080/"
        },
        "id": "ni9DkHMSzmrs",
        "outputId": "25081134-93a7-4452-87d0-b2e73bc355c7"
      },
      "source": [
        "userNames = [\"skhan\", \"admin\", \"yaseen\", \"fayyaz\", \"abbas\", \"salman\", \"uzaif\"]\r\n",
        "\r\n",
        "if userNames:\r\n",
        "  for userName in userNames:\r\n",
        "    if userName == \"admin\":\r\n",
        "      print(\"Hello \" + userName +\", would you like to see a status report?\")\r\n",
        "    else:\r\n",
        "      print(\"Hello \" + userName +\", thank you for logging again.\")\r\n",
        "else:\r\n",
        "  print(\"We need to find some users!\")\r\n",
        "\r\n"
      ],
      "execution_count": 23,
      "outputs": [
        {
          "output_type": "stream",
          "text": [
            "Hello skhan, thank you for logging again.\n",
            "Hello admin, would you like to see a status report?\n",
            "Hello yaseen, thank you for logging again.\n",
            "Hello fayyaz, thank you for logging again.\n",
            "Hello abbas, thank you for logging again.\n",
            "Hello salman, thank you for logging again.\n",
            "Hello uzaif, thank you for logging again.\n"
          ],
          "name": "stdout"
        }
      ]
    },
    {
      "cell_type": "markdown",
      "metadata": {
        "id": "YCEe4DUL3kcY"
      },
      "source": [
        "# 5-9. No Users"
      ]
    },
    {
      "cell_type": "code",
      "metadata": {
        "colab": {
          "base_uri": "https://localhost:8080/"
        },
        "id": "XiUUYwzP3Pci",
        "outputId": "2cd719fb-c6d8-4bd2-bb1a-89a7004ec322"
      },
      "source": [
        "del userNames[:]\r\n",
        "if userNames:\r\n",
        "  for userName in userNames:\r\n",
        "    if userName == \"admin\":\r\n",
        "      print(\"Hello \" + userName +\", would you like to see a status report?\")\r\n",
        "    else:\r\n",
        "      print(\"Hello \" + userName +\", thank you for logging again.\")\r\n",
        "else:\r\n",
        "  print(\"We need to find some users!\")\r\n",
        "\r\n"
      ],
      "execution_count": 24,
      "outputs": [
        {
          "output_type": "stream",
          "text": [
            "We need to find some users!\n"
          ],
          "name": "stdout"
        }
      ]
    },
    {
      "cell_type": "markdown",
      "metadata": {
        "id": "vsYXnHcT3qOa"
      },
      "source": [
        "# 5-10. Checking Usernames"
      ]
    },
    {
      "cell_type": "code",
      "metadata": {
        "colab": {
          "base_uri": "https://localhost:8080/"
        },
        "id": "HtfF4lt33tUD",
        "outputId": "98ea2940-82f3-47ad-9637-289748d3ad2b"
      },
      "source": [
        "current_users = [\"skhan\", \"yaseen\", \"fayyaz\", \"abbas\", \"salman\", \"uzaif\"]\r\n",
        "new_users = [\"usama\", \"SKHAN\", \"admin\", \"yaseen\", \"fahad\", \"faizan\"]\r\n",
        "\r\n",
        "for user in new_users:\r\n",
        "  if user.lower() in current_users:\r\n",
        "    print(\"User name is already exist, you need to enter a new user name\")\r\n",
        "  else:\r\n",
        "    print(\"User name is available\")"
      ],
      "execution_count": 29,
      "outputs": [
        {
          "output_type": "stream",
          "text": [
            "User name is available\n",
            "User name is already exist, you need to enter a new user name\n",
            "User name is available\n",
            "User name is already exist, you need to enter a new user name\n",
            "User name is available\n",
            "User name is available\n"
          ],
          "name": "stdout"
        }
      ]
    },
    {
      "cell_type": "markdown",
      "metadata": {
        "id": "QvPx4CDC6F5r"
      },
      "source": [
        "# 5-11. Ordinal Numbers"
      ]
    },
    {
      "cell_type": "code",
      "metadata": {
        "colab": {
          "base_uri": "https://localhost:8080/"
        },
        "id": "CSUb0xDy6Ici",
        "outputId": "5269e56d-b885-4a0a-bd2d-c8dbf3ec5834"
      },
      "source": [
        "ordinal_numbers = [*range(1, 10)]\r\n",
        "for number in ordinal_numbers:\r\n",
        "  if number == 1:\r\n",
        "    print(str(number) + \"st\")\r\n",
        "  elif number == 2:\r\n",
        "    print(str(number) + \"nd\")\r\n",
        "  elif number == 3:\r\n",
        "    print(str(number) +\"rd\")\r\n",
        "  else:\r\n",
        "    print(str(number) + \"th\")\r\n"
      ],
      "execution_count": 40,
      "outputs": [
        {
          "output_type": "stream",
          "text": [
            "1st\n",
            "2nd\n",
            "3rd\n",
            "4th\n",
            "5th\n",
            "6th\n",
            "7th\n",
            "8th\n",
            "9th\n"
          ],
          "name": "stdout"
        }
      ]
    },
    {
      "cell_type": "code",
      "metadata": {
        "id": "gFF89iJB6uVL"
      },
      "source": [
        ""
      ],
      "execution_count": null,
      "outputs": []
    }
  ]
}